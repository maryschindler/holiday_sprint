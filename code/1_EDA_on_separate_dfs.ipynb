{
 "cells": [
  {
   "cell_type": "markdown",
   "id": "87f7b274-5b03-4739-b3c8-137965286d74",
   "metadata": {},
   "source": [
    "## Holiday Sprint - Examining Legos!"
   ]
  },
  {
   "cell_type": "markdown",
   "id": "1f9b5a91-7824-44ad-9416-2d30ba770a77",
   "metadata": {},
   "source": [
    "**Imports**"
   ]
  },
  {
   "cell_type": "code",
   "execution_count": 1,
   "id": "d17e6272-2451-45ea-bea8-926ed47b7974",
   "metadata": {},
   "outputs": [],
   "source": [
    "import pandas as pd\n",
    "pd.set_option('display.max_columns', None)\n",
    "\n",
    "import numpy as np\n",
    "np.random.seed(42)\n",
    "\n",
    "import matplotlib.pyplot as plt\n",
    "import seaborn as sns\n",
    "sns.set(style = \"darkgrid\")"
   ]
  },
  {
   "cell_type": "markdown",
   "id": "8eee8442-4508-48f7-91eb-06fda406f7a4",
   "metadata": {},
   "source": [
    "**Datasets to be Examined**"
   ]
  },
  {
   "cell_type": "markdown",
   "id": "a9798b86-ab1a-4013-9dd1-f848509cfe1e",
   "metadata": {},
   "source": [
    "![image info](../data/downloads_schema.png)"
   ]
  },
  {
   "cell_type": "markdown",
   "id": "ae1a4afd-aeeb-4b48-b7d5-7966616dd318",
   "metadata": {},
   "source": [
    "[Source: Kaggle](https://www.kaggle.com/rtatman/lego-database)"
   ]
  },
  {
   "cell_type": "markdown",
   "id": "c488ed9d-1515-41dd-bd1b-5fefe50eee1c",
   "metadata": {},
   "source": [
    "**Data Read-In**"
   ]
  },
  {
   "cell_type": "code",
   "execution_count": 2,
   "id": "b0aa4d6d-b3f0-467c-a639-f9959d7b2894",
   "metadata": {},
   "outputs": [],
   "source": [
    "#reading in datasets outlined in the image above\n",
    "colors_df = pd.read_csv('../data/colors.csv')\n",
    "inventories_df = pd.read_csv('../data/inventories.csv')\n",
    "inventory_parts_df = pd.read_csv('../data/inventory_parts.csv')\n",
    "inventory_sets_df = pd.read_csv('../data/inventory_sets.csv')\n",
    "part_categories_df = pd.read_csv('../data/part_categories.csv')\n",
    "parts_df = pd.read_csv('../data/parts.csv')\n",
    "sets_df = pd.read_csv('../data/sets.csv')\n",
    "themes_df = pd.read_csv('../data/themes.csv')"
   ]
  },
  {
   "cell_type": "markdown",
   "id": "3bcd59fd-7e05-4e7d-aee1-955067a9fba5",
   "metadata": {},
   "source": [
    "**Examining colors.csv**"
   ]
  },
  {
   "cell_type": "code",
   "execution_count": 3,
   "id": "3bb583ad-0522-46ed-ac1d-6c7a2b645ae2",
   "metadata": {},
   "outputs": [
    {
     "data": {
      "text/html": [
       "<div>\n",
       "<style scoped>\n",
       "    .dataframe tbody tr th:only-of-type {\n",
       "        vertical-align: middle;\n",
       "    }\n",
       "\n",
       "    .dataframe tbody tr th {\n",
       "        vertical-align: top;\n",
       "    }\n",
       "\n",
       "    .dataframe thead th {\n",
       "        text-align: right;\n",
       "    }\n",
       "</style>\n",
       "<table border=\"1\" class=\"dataframe\">\n",
       "  <thead>\n",
       "    <tr style=\"text-align: right;\">\n",
       "      <th></th>\n",
       "      <th>id</th>\n",
       "      <th>name</th>\n",
       "      <th>rgb</th>\n",
       "      <th>is_trans</th>\n",
       "    </tr>\n",
       "  </thead>\n",
       "  <tbody>\n",
       "    <tr>\n",
       "      <th>0</th>\n",
       "      <td>-1</td>\n",
       "      <td>Unknown</td>\n",
       "      <td>0033B2</td>\n",
       "      <td>f</td>\n",
       "    </tr>\n",
       "    <tr>\n",
       "      <th>1</th>\n",
       "      <td>0</td>\n",
       "      <td>Black</td>\n",
       "      <td>05131D</td>\n",
       "      <td>f</td>\n",
       "    </tr>\n",
       "    <tr>\n",
       "      <th>2</th>\n",
       "      <td>1</td>\n",
       "      <td>Blue</td>\n",
       "      <td>0055BF</td>\n",
       "      <td>f</td>\n",
       "    </tr>\n",
       "    <tr>\n",
       "      <th>3</th>\n",
       "      <td>2</td>\n",
       "      <td>Green</td>\n",
       "      <td>237841</td>\n",
       "      <td>f</td>\n",
       "    </tr>\n",
       "    <tr>\n",
       "      <th>4</th>\n",
       "      <td>3</td>\n",
       "      <td>Dark Turquoise</td>\n",
       "      <td>008F9B</td>\n",
       "      <td>f</td>\n",
       "    </tr>\n",
       "  </tbody>\n",
       "</table>\n",
       "</div>"
      ],
      "text/plain": [
       "   id            name     rgb is_trans\n",
       "0  -1         Unknown  0033B2        f\n",
       "1   0           Black  05131D        f\n",
       "2   1            Blue  0055BF        f\n",
       "3   2           Green  237841        f\n",
       "4   3  Dark Turquoise  008F9B        f"
      ]
     },
     "execution_count": 3,
     "metadata": {},
     "output_type": "execute_result"
    }
   ],
   "source": [
    "colors_df.head()\n",
    "#note, 'name' unknown 'rgb' 0033B2 is https://www.color-hex.com/color/0033b2 (Klein Blue)"
   ]
  },
  {
   "cell_type": "code",
   "execution_count": 4,
   "id": "c6e29ac1-6d2c-492d-a335-9360e58c0265",
   "metadata": {},
   "outputs": [
    {
     "data": {
      "text/plain": [
       "'The \"colors_df\" is (135, 4), rows by columns.'"
      ]
     },
     "execution_count": 4,
     "metadata": {},
     "output_type": "execute_result"
    }
   ],
   "source": [
    "f'The \"colors_df\" is {colors_df.shape}, rows by columns.'"
   ]
  },
  {
   "cell_type": "code",
   "execution_count": 5,
   "id": "194186d6-d2e4-434d-84b3-0b3d6a58acaa",
   "metadata": {},
   "outputs": [
    {
     "name": "stdout",
     "output_type": "stream",
     "text": [
      "<class 'pandas.core.frame.DataFrame'>\n",
      "RangeIndex: 135 entries, 0 to 134\n",
      "Data columns (total 4 columns):\n",
      " #   Column    Non-Null Count  Dtype \n",
      "---  ------    --------------  ----- \n",
      " 0   id        135 non-null    int64 \n",
      " 1   name      135 non-null    object\n",
      " 2   rgb       135 non-null    object\n",
      " 3   is_trans  135 non-null    object\n",
      "dtypes: int64(1), object(3)\n",
      "memory usage: 4.3+ KB\n"
     ]
    }
   ],
   "source": [
    "colors_df.info()"
   ]
  },
  {
   "cell_type": "code",
   "execution_count": 8,
   "id": "f4cbb0ec-7604-4f9a-ab66-18bdb614f2a3",
   "metadata": {},
   "outputs": [
    {
     "data": {
      "text/plain": [
       "array(['Unknown', 'Black', 'Blue', 'Green', 'Dark Turquoise', 'Red',\n",
       "       'Dark Pink', 'Brown', 'Light Gray', 'Dark Gray', 'Light Blue',\n",
       "       'Bright Green', 'Light Turquoise', 'Salmon', 'Pink', 'Yellow',\n",
       "       'White', 'Light Green', 'Light Yellow', 'Tan', 'Light Violet',\n",
       "       'Glow In Dark Opaque', 'Purple', 'Dark Blue-Violet', 'Orange',\n",
       "       'Magenta', 'Lime', 'Dark Tan', 'Bright Pink', 'Medium Lavender',\n",
       "       'Lavender', 'Trans-Black IR Lens', 'Trans-Dark Blue',\n",
       "       'Trans-Green', 'Trans-Bright Green', 'Trans-Red', 'Trans-Black',\n",
       "       'Trans-Light Blue', 'Trans-Neon Green', 'Trans-Very Lt Blue',\n",
       "       'Trans-Dark Pink', 'Trans-Yellow', 'Trans-Clear', 'Trans-Purple',\n",
       "       'Trans-Neon Yellow', 'Trans-Neon Orange', 'Chrome Antique Brass',\n",
       "       'Chrome Blue', 'Chrome Green', 'Chrome Pink', 'Chrome Black',\n",
       "       'Very Light Orange', 'Light Purple', 'Reddish Brown',\n",
       "       'Light Bluish Gray', 'Dark Bluish Gray', 'Medium Blue',\n",
       "       'Medium Green', 'Speckle Black-Copper', 'Speckle DBGray-Silver',\n",
       "       'Light Pink', 'Light Flesh', 'Milky White', 'Metallic Silver',\n",
       "       'Metallic Green', 'Metallic Gold', 'Medium Dark Flesh',\n",
       "       'Dark Purple', 'Dark Flesh', 'Royal Blue', 'Flesh', 'Light Salmon',\n",
       "       'Violet', 'Blue-Violet', 'Glitter Trans-Dark Pink', 'Medium Lime',\n",
       "       'Glitter Trans-Clear', 'Aqua', 'Light Lime', 'Light Orange',\n",
       "       'Glitter Trans-Purple', 'Speckle Black-Silver',\n",
       "       'Speckle Black-Gold', 'Copper', 'Pearl Light Gray', 'Metal Blue',\n",
       "       'Pearl Light Gold', 'Trans-Medium Blue', 'Pearl Dark Gray',\n",
       "       'Pearl Very Light Gray', 'Very Light Bluish Gray',\n",
       "       'Yellowish Green', 'Flat Dark Gold', 'Flat Silver', 'Trans-Orange',\n",
       "       'Pearl White', 'Bright Light Orange', 'Bright Light Blue', 'Rust',\n",
       "       'Bright Light Yellow', 'Trans-Pink', 'Sky Blue',\n",
       "       'Trans-Light Purple', 'Dark Blue', 'Dark Green',\n",
       "       'Glow In Dark Trans', 'Pearl Gold', 'Dark Brown', 'Maersk Blue',\n",
       "       'Dark Red', 'Dark Azure', 'Medium Azure', 'Light Aqua',\n",
       "       'Olive Green', 'Chrome Gold', 'Sand Red', 'Medium Dark Pink',\n",
       "       'Earth Orange', 'Sand Purple', 'Sand Green', 'Sand Blue',\n",
       "       'Chrome Silver', 'Fabuland Brown', 'Medium Orange', 'Dark Orange',\n",
       "       'Very Light Gray', 'Glow in Dark White', 'Medium Violet',\n",
       "       'Glitter Trans-Neon Green', 'Glitter Trans-Light Blue',\n",
       "       'Trans Flame Yellowish Orange', 'Trans Fire Yellow',\n",
       "       'Trans Light Royal Blue', 'Reddish Lilac', '[No Color]'],\n",
       "      dtype=object)"
      ]
     },
     "execution_count": 8,
     "metadata": {},
     "output_type": "execute_result"
    }
   ],
   "source": [
    "colors_df['name'].values"
   ]
  },
  {
   "cell_type": "code",
   "execution_count": 9,
   "id": "b491100e-ace2-417b-9a19-f3582f3242ea",
   "metadata": {},
   "outputs": [
    {
     "data": {
      "text/html": [
       "<div>\n",
       "<style scoped>\n",
       "    .dataframe tbody tr th:only-of-type {\n",
       "        vertical-align: middle;\n",
       "    }\n",
       "\n",
       "    .dataframe tbody tr th {\n",
       "        vertical-align: top;\n",
       "    }\n",
       "\n",
       "    .dataframe thead th {\n",
       "        text-align: right;\n",
       "    }\n",
       "</style>\n",
       "<table border=\"1\" class=\"dataframe\">\n",
       "  <thead>\n",
       "    <tr style=\"text-align: right;\">\n",
       "      <th></th>\n",
       "      <th>id</th>\n",
       "      <th>name</th>\n",
       "      <th>rgb</th>\n",
       "      <th>is_trans</th>\n",
       "    </tr>\n",
       "  </thead>\n",
       "  <tbody>\n",
       "    <tr>\n",
       "      <th>134</th>\n",
       "      <td>9999</td>\n",
       "      <td>[No Color]</td>\n",
       "      <td>05131D</td>\n",
       "      <td>f</td>\n",
       "    </tr>\n",
       "  </tbody>\n",
       "</table>\n",
       "</div>"
      ],
      "text/plain": [
       "       id        name     rgb is_trans\n",
       "134  9999  [No Color]  05131D        f"
      ]
     },
     "execution_count": 9,
     "metadata": {},
     "output_type": "execute_result"
    }
   ],
   "source": [
    "colors_df[colors_df['name'] == '[No Color]']\n",
    "\n",
    "#note, 'name' [No Color] 'rgb' 05131D is https://www.color-hex.com/color/05131d (not named)\n",
    "#it's like a very dark blueish-black"
   ]
  },
  {
   "cell_type": "code",
   "execution_count": 6,
   "id": "e39957df-1d44-4a6b-ab1f-b4a8070945ec",
   "metadata": {},
   "outputs": [
    {
     "data": {
      "text/plain": [
       "f    0.792593\n",
       "t    0.207407\n",
       "Name: is_trans, dtype: float64"
      ]
     },
     "execution_count": 6,
     "metadata": {},
     "output_type": "execute_result"
    }
   ],
   "source": [
    "colors_df['is_trans'].value_counts(normalize = True)\n",
    "#approximately 80% of lego blocks are opaque, 20% are translucent/transparent\n",
    "#might be a good feature to model for"
   ]
  },
  {
   "cell_type": "code",
   "execution_count": 8,
   "id": "26572173-0388-44db-ae8f-1a53079b6b1b",
   "metadata": {},
   "outputs": [
    {
     "data": {
      "image/png": "[encoded data removed]",
      "text/plain": [
       "<Figure size 576x576 with 1 Axes>"
      ]
     },
     "metadata": {},
     "output_type": "display_data"
    }
   ],
   "source": [
    "plt.figure(figsize = (8, 8))\n",
    "\n",
    "sns.countplot(x = 'is_trans', data = colors_df, palette = 'viridis')\n",
    "\n",
    "plt.title('Counts of Opaque and Translucent/Transparent Lego Pieces',\n",
    "          fontsize = 16, fontweight = 'bold', y = 1.05)\n",
    "plt.xticks(ticks = [0, 1], \n",
    "           labels = ['Opaque', 'Not Opaque'])\n",
    "plt.xlabel('Opacity',\n",
    "           fontweight = 'bold')\n",
    "plt.ylabel('Count',\n",
    "           fontweight = 'bold');"
   ]
  },
  {
   "cell_type": "markdown",
   "id": "37c0799f-b0a7-4ec9-8a2a-81ec293ce760",
   "metadata": {},
   "source": [
    "**Examining inventories.csv**"
   ]
  },
  {
   "cell_type": "code",
   "execution_count": 8,
   "id": "fc9f28e9-bf3f-4092-92c0-e327d54d5b1e",
   "metadata": {},
   "outputs": [
    {
     "data": {
      "text/html": [
       "<div>\n",
       "<style scoped>\n",
       "    .dataframe tbody tr th:only-of-type {\n",
       "        vertical-align: middle;\n",
       "    }\n",
       "\n",
       "    .dataframe tbody tr th {\n",
       "        vertical-align: top;\n",
       "    }\n",
       "\n",
       "    .dataframe thead th {\n",
       "        text-align: right;\n",
       "    }\n",
       "</style>\n",
       "<table border=\"1\" class=\"dataframe\">\n",
       "  <thead>\n",
       "    <tr style=\"text-align: right;\">\n",
       "      <th></th>\n",
       "      <th>id</th>\n",
       "      <th>version</th>\n",
       "      <th>set_num</th>\n",
       "    </tr>\n",
       "  </thead>\n",
       "  <tbody>\n",
       "    <tr>\n",
       "      <th>0</th>\n",
       "      <td>1</td>\n",
       "      <td>1</td>\n",
       "      <td>7922-1</td>\n",
       "    </tr>\n",
       "    <tr>\n",
       "      <th>1</th>\n",
       "      <td>3</td>\n",
       "      <td>1</td>\n",
       "      <td>3931-1</td>\n",
       "    </tr>\n",
       "    <tr>\n",
       "      <th>2</th>\n",
       "      <td>4</td>\n",
       "      <td>1</td>\n",
       "      <td>6942-1</td>\n",
       "    </tr>\n",
       "    <tr>\n",
       "      <th>3</th>\n",
       "      <td>15</td>\n",
       "      <td>1</td>\n",
       "      <td>5158-1</td>\n",
       "    </tr>\n",
       "    <tr>\n",
       "      <th>4</th>\n",
       "      <td>16</td>\n",
       "      <td>1</td>\n",
       "      <td>903-1</td>\n",
       "    </tr>\n",
       "  </tbody>\n",
       "</table>\n",
       "</div>"
      ],
      "text/plain": [
       "   id  version set_num\n",
       "0   1        1  7922-1\n",
       "1   3        1  3931-1\n",
       "2   4        1  6942-1\n",
       "3  15        1  5158-1\n",
       "4  16        1   903-1"
      ]
     },
     "execution_count": 8,
     "metadata": {},
     "output_type": "execute_result"
    }
   ],
   "source": [
    "inventories_df.head()"
   ]
  },
  {
   "cell_type": "code",
   "execution_count": 9,
   "id": "49591c74-360e-4807-960f-e7b56b5e4e7d",
   "metadata": {},
   "outputs": [
    {
     "data": {
      "text/plain": [
       "'The \"inventories_df\" is (11681, 3), rows by columns.'"
      ]
     },
     "execution_count": 9,
     "metadata": {},
     "output_type": "execute_result"
    }
   ],
   "source": [
    "f'The \"inventories_df\" is {inventories_df.shape}, rows by columns.'"
   ]
  },
  {
   "cell_type": "code",
   "execution_count": 10,
   "id": "ff731eee-c896-4251-9f47-1e8bb14db02a",
   "metadata": {},
   "outputs": [
    {
     "name": "stdout",
     "output_type": "stream",
     "text": [
      "<class 'pandas.core.frame.DataFrame'>\n",
      "RangeIndex: 11681 entries, 0 to 11680\n",
      "Data columns (total 3 columns):\n",
      " #   Column   Non-Null Count  Dtype \n",
      "---  ------   --------------  ----- \n",
      " 0   id       11681 non-null  int64 \n",
      " 1   version  11681 non-null  int64 \n",
      " 2   set_num  11681 non-null  object\n",
      "dtypes: int64(2), object(1)\n",
      "memory usage: 273.9+ KB\n"
     ]
    }
   ],
   "source": [
    "inventories_df.info()"
   ]
  },
  {
   "cell_type": "code",
   "execution_count": 9,
   "id": "1e880122-bf08-460e-8185-0ca2bda60d30",
   "metadata": {},
   "outputs": [
    {
     "data": {
      "text/plain": [
       "11681"
      ]
     },
     "execution_count": 9,
     "metadata": {},
     "output_type": "execute_result"
    }
   ],
   "source": [
    "inventories_df['id'].nunique()"
   ]
  },
  {
   "cell_type": "code",
   "execution_count": 10,
   "id": "53c4a643-69a5-4a55-b84b-63aa4f7a8b18",
   "metadata": {},
   "outputs": [
    {
     "data": {
      "text/plain": [
       "5"
      ]
     },
     "execution_count": 10,
     "metadata": {},
     "output_type": "execute_result"
    }
   ],
   "source": [
    "inventories_df['version'].nunique()"
   ]
  },
  {
   "cell_type": "code",
   "execution_count": 11,
   "id": "82e7fe6a-ee0e-4e35-8776-9f3bd0f09c18",
   "metadata": {},
   "outputs": [
    {
     "data": {
      "text/plain": [
       "11670"
      ]
     },
     "execution_count": 11,
     "metadata": {},
     "output_type": "execute_result"
    }
   ],
   "source": [
    "inventories_df['set_num'].nunique()"
   ]
  },
  {
   "cell_type": "code",
   "execution_count": 11,
   "id": "fcafddff-d2d6-4351-a440-f100340fc78f",
   "metadata": {},
   "outputs": [
    {
     "data": {
      "text/plain": [
       "1    11669\n",
       "2        9\n",
       "3        1\n",
       "4        1\n",
       "5        1\n",
       "Name: version, dtype: int64"
      ]
     },
     "execution_count": 11,
     "metadata": {},
     "output_type": "execute_result"
    }
   ],
   "source": [
    "inventories_df['version'].value_counts()"
   ]
  },
  {
   "cell_type": "code",
   "execution_count": 12,
   "id": "ca6d5e70-e9cc-4c99-8055-896949ca650e",
   "metadata": {},
   "outputs": [
    {
     "data": {
      "text/plain": [
       "1    0.998973\n",
       "2    0.000770\n",
       "3    0.000086\n",
       "4    0.000086\n",
       "5    0.000086\n",
       "Name: version, dtype: float64"
      ]
     },
     "execution_count": 12,
     "metadata": {},
     "output_type": "execute_result"
    }
   ],
   "source": [
    "inventories_df['version'].value_counts(normalize = True)"
   ]
  },
  {
   "cell_type": "code",
   "execution_count": 12,
   "id": "26284af2-497c-4342-ba1e-828378138741",
   "metadata": {},
   "outputs": [
    {
     "data": {
      "text/html": [
       "<div>\n",
       "<style scoped>\n",
       "    .dataframe tbody tr th:only-of-type {\n",
       "        vertical-align: middle;\n",
       "    }\n",
       "\n",
       "    .dataframe tbody tr th {\n",
       "        vertical-align: top;\n",
       "    }\n",
       "\n",
       "    .dataframe thead th {\n",
       "        text-align: right;\n",
       "    }\n",
       "</style>\n",
       "<table border=\"1\" class=\"dataframe\">\n",
       "  <thead>\n",
       "    <tr style=\"text-align: right;\">\n",
       "      <th></th>\n",
       "      <th>id</th>\n",
       "      <th>version</th>\n",
       "      <th>set_num</th>\n",
       "    </tr>\n",
       "  </thead>\n",
       "  <tbody>\n",
       "    <tr>\n",
       "      <th>11438</th>\n",
       "      <td>16490</td>\n",
       "      <td>2</td>\n",
       "      <td>6515-1</td>\n",
       "    </tr>\n",
       "    <tr>\n",
       "      <th>11479</th>\n",
       "      <td>16760</td>\n",
       "      <td>2</td>\n",
       "      <td>11905-1</td>\n",
       "    </tr>\n",
       "    <tr>\n",
       "      <th>11495</th>\n",
       "      <td>16878</td>\n",
       "      <td>2</td>\n",
       "      <td>8030-1</td>\n",
       "    </tr>\n",
       "    <tr>\n",
       "      <th>11580</th>\n",
       "      <td>17793</td>\n",
       "      <td>2</td>\n",
       "      <td>76081-1</td>\n",
       "    </tr>\n",
       "    <tr>\n",
       "      <th>11581</th>\n",
       "      <td>17799</td>\n",
       "      <td>2</td>\n",
       "      <td>214.6-1</td>\n",
       "    </tr>\n",
       "    <tr>\n",
       "      <th>11585</th>\n",
       "      <td>17848</td>\n",
       "      <td>2</td>\n",
       "      <td>421-2</td>\n",
       "    </tr>\n",
       "    <tr>\n",
       "      <th>11625</th>\n",
       "      <td>18221</td>\n",
       "      <td>2</td>\n",
       "      <td>8880-1</td>\n",
       "    </tr>\n",
       "    <tr>\n",
       "      <th>11626</th>\n",
       "      <td>18231</td>\n",
       "      <td>2</td>\n",
       "      <td>31015-1</td>\n",
       "    </tr>\n",
       "    <tr>\n",
       "      <th>11628</th>\n",
       "      <td>18274</td>\n",
       "      <td>2</td>\n",
       "      <td>75053-1</td>\n",
       "    </tr>\n",
       "    <tr>\n",
       "      <th>11586</th>\n",
       "      <td>17849</td>\n",
       "      <td>3</td>\n",
       "      <td>421-2</td>\n",
       "    </tr>\n",
       "    <tr>\n",
       "      <th>11587</th>\n",
       "      <td>17850</td>\n",
       "      <td>4</td>\n",
       "      <td>421-2</td>\n",
       "    </tr>\n",
       "    <tr>\n",
       "      <th>11588</th>\n",
       "      <td>17851</td>\n",
       "      <td>5</td>\n",
       "      <td>421-2</td>\n",
       "    </tr>\n",
       "  </tbody>\n",
       "</table>\n",
       "</div>"
      ],
      "text/plain": [
       "          id  version  set_num\n",
       "11438  16490        2   6515-1\n",
       "11479  16760        2  11905-1\n",
       "11495  16878        2   8030-1\n",
       "11580  17793        2  76081-1\n",
       "11581  17799        2  214.6-1\n",
       "11585  17848        2    421-2\n",
       "11625  18221        2   8880-1\n",
       "11626  18231        2  31015-1\n",
       "11628  18274        2  75053-1\n",
       "11586  17849        3    421-2\n",
       "11587  17850        4    421-2\n",
       "11588  17851        5    421-2"
      ]
     },
     "execution_count": 12,
     "metadata": {},
     "output_type": "execute_result"
    }
   ],
   "source": [
    "inventories_df[inventories_df['version'] != 1].sort_values(by = 'version')\n",
    "#instances where version is something other than 1"
   ]
  },
  {
   "cell_type": "code",
   "execution_count": 14,
   "id": "79ec712c-d061-4f54-908a-e0c3266ca066",
   "metadata": {},
   "outputs": [
    {
     "data": {
      "image/png": "[encoded data removed]",
      "text/plain": [
       "<Figure size 720x576 with 1 Axes>"
      ]
     },
     "metadata": {},
     "output_type": "display_data"
    }
   ],
   "source": [
    "plt.figure(figsize = (10, 8))\n",
    "\n",
    "sns.countplot(x = 'version', data = inventories_df, palette = 'viridis')\n",
    "\n",
    "plt.title('Counts of Lego Sets by Version',\n",
    "          fontsize = 16, fontweight = 'bold', y = 1.05)\n",
    "plt.xlabel('Version',\n",
    "           fontweight = 'bold')\n",
    "plt.ylabel('Count',\n",
    "           fontweight = 'bold');\n",
    "#version '1' is overwhelming the majority class, \n",
    "#the other are almost negligible when compared to it"
   ]
  },
  {
   "cell_type": "code",
   "execution_count": 13,
   "id": "056d267a-5c7e-4853-9945-90be42874710",
   "metadata": {},
   "outputs": [
    {
     "data": {
      "image/png": "[encoded data removed]",
      "text/plain": [
       "<Figure size 720x576 with 1 Axes>"
      ]
     },
     "metadata": {},
     "output_type": "display_data"
    }
   ],
   "source": [
    "plt.figure(figsize = (10, 8))\n",
    "\n",
    "sns.countplot(x = 'version',\n",
    "              data = inventories_df[inventories_df['version'] != 1],\n",
    "              palette = 'viridis')\n",
    "\n",
    "plt.title('Counts of Lego Sets by Version (Excluding Version 1)',\n",
    "          fontsize = 16, fontweight = 'bold', y = 1.05)\n",
    "plt.xlabel('Version',\n",
    "           fontweight = 'bold')\n",
    "plt.ylabel('Count',\n",
    "           fontweight = 'bold');\n",
    "#excluding version '1', version '2' is the majority class"
   ]
  },
  {
   "cell_type": "markdown",
   "id": "de529b04-95aa-40ed-a6b7-68a1a5715f72",
   "metadata": {},
   "source": [
    "**Examining inventory_parts.csv**"
   ]
  },
  {
   "cell_type": "code",
   "execution_count": 17,
   "id": "d521d2fa-e6b0-487a-8b75-59d80833b96d",
   "metadata": {},
   "outputs": [
    {
     "data": {
      "text/html": [
       "<div>\n",
       "<style scoped>\n",
       "    .dataframe tbody tr th:only-of-type {\n",
       "        vertical-align: middle;\n",
       "    }\n",
       "\n",
       "    .dataframe tbody tr th {\n",
       "        vertical-align: top;\n",
       "    }\n",
       "\n",
       "    .dataframe thead th {\n",
       "        text-align: right;\n",
       "    }\n",
       "</style>\n",
       "<table border=\"1\" class=\"dataframe\">\n",
       "  <thead>\n",
       "    <tr style=\"text-align: right;\">\n",
       "      <th></th>\n",
       "      <th>inventory_id</th>\n",
       "      <th>part_num</th>\n",
       "      <th>color_id</th>\n",
       "      <th>quantity</th>\n",
       "      <th>is_spare</th>\n",
       "    </tr>\n",
       "  </thead>\n",
       "  <tbody>\n",
       "    <tr>\n",
       "      <th>0</th>\n",
       "      <td>1</td>\n",
       "      <td>48379c01</td>\n",
       "      <td>72</td>\n",
       "      <td>1</td>\n",
       "      <td>f</td>\n",
       "    </tr>\n",
       "    <tr>\n",
       "      <th>1</th>\n",
       "      <td>1</td>\n",
       "      <td>48395</td>\n",
       "      <td>7</td>\n",
       "      <td>1</td>\n",
       "      <td>f</td>\n",
       "    </tr>\n",
       "    <tr>\n",
       "      <th>2</th>\n",
       "      <td>1</td>\n",
       "      <td>mcsport6</td>\n",
       "      <td>25</td>\n",
       "      <td>1</td>\n",
       "      <td>f</td>\n",
       "    </tr>\n",
       "    <tr>\n",
       "      <th>3</th>\n",
       "      <td>1</td>\n",
       "      <td>paddle</td>\n",
       "      <td>0</td>\n",
       "      <td>1</td>\n",
       "      <td>f</td>\n",
       "    </tr>\n",
       "    <tr>\n",
       "      <th>4</th>\n",
       "      <td>3</td>\n",
       "      <td>11816pr0005</td>\n",
       "      <td>78</td>\n",
       "      <td>1</td>\n",
       "      <td>f</td>\n",
       "    </tr>\n",
       "  </tbody>\n",
       "</table>\n",
       "</div>"
      ],
      "text/plain": [
       "   inventory_id     part_num  color_id  quantity is_spare\n",
       "0             1     48379c01        72         1        f\n",
       "1             1        48395         7         1        f\n",
       "2             1     mcsport6        25         1        f\n",
       "3             1       paddle         0         1        f\n",
       "4             3  11816pr0005        78         1        f"
      ]
     },
     "execution_count": 17,
     "metadata": {},
     "output_type": "execute_result"
    }
   ],
   "source": [
    "inventory_parts_df.head()"
   ]
  },
  {
   "cell_type": "code",
   "execution_count": 18,
   "id": "095ca52a-942b-45b0-a996-81003b10aeb9",
   "metadata": {},
   "outputs": [
    {
     "data": {
      "text/plain": [
       "'The \"inventory_parts_df\" is (580251, 5), rows by columns.'"
      ]
     },
     "execution_count": 18,
     "metadata": {},
     "output_type": "execute_result"
    }
   ],
   "source": [
    "f'The \"inventory_parts_df\" is {inventory_parts_df.shape}, rows by columns.'"
   ]
  },
  {
   "cell_type": "code",
   "execution_count": 19,
   "id": "56cd7151-2ea1-43e2-bd2b-f1f3a58f1da0",
   "metadata": {},
   "outputs": [
    {
     "name": "stdout",
     "output_type": "stream",
     "text": [
      "<class 'pandas.core.frame.DataFrame'>\n",
      "RangeIndex: 580251 entries, 0 to 580250\n",
      "Data columns (total 5 columns):\n",
      " #   Column        Non-Null Count   Dtype \n",
      "---  ------        --------------   ----- \n",
      " 0   inventory_id  580251 non-null  int64 \n",
      " 1   part_num      580251 non-null  object\n",
      " 2   color_id      580251 non-null  int64 \n",
      " 3   quantity      580251 non-null  int64 \n",
      " 4   is_spare      580251 non-null  object\n",
      "dtypes: int64(3), object(2)\n",
      "memory usage: 22.1+ MB\n"
     ]
    }
   ],
   "source": [
    "inventory_parts_df.info()"
   ]
  },
  {
   "cell_type": "code",
   "execution_count": 20,
   "id": "fd64e47d-d0a6-4472-8d8e-bfc7753d404f",
   "metadata": {},
   "outputs": [
    {
     "data": {
      "text/plain": [
       "10724"
      ]
     },
     "execution_count": 20,
     "metadata": {},
     "output_type": "execute_result"
    }
   ],
   "source": [
    "inventory_parts_df['inventory_id'].nunique()"
   ]
  },
  {
   "cell_type": "code",
   "execution_count": 21,
   "id": "18fa291f-67ef-4afd-b87f-00d5d01409d6",
   "metadata": {},
   "outputs": [
    {
     "data": {
      "text/plain": [
       "23131"
      ]
     },
     "execution_count": 21,
     "metadata": {},
     "output_type": "execute_result"
    }
   ],
   "source": [
    "inventory_parts_df['part_num'].nunique()"
   ]
  },
  {
   "cell_type": "code",
   "execution_count": 22,
   "id": "52737e6a-7753-4e76-be6b-a7949ade3084",
   "metadata": {},
   "outputs": [
    {
     "data": {
      "text/plain": [
       "131"
      ]
     },
     "execution_count": 22,
     "metadata": {},
     "output_type": "execute_result"
    }
   ],
   "source": [
    "inventory_parts_df['color_id'].nunique()"
   ]
  },
  {
   "cell_type": "code",
   "execution_count": 23,
   "id": "a01a3bc4-4f9b-4cca-a75d-1eebe3d87cbd",
   "metadata": {},
   "outputs": [
    {
     "data": {
      "text/plain": [
       "239"
      ]
     },
     "execution_count": 23,
     "metadata": {},
     "output_type": "execute_result"
    }
   ],
   "source": [
    "inventory_parts_df['quantity'].nunique()"
   ]
  },
  {
   "cell_type": "code",
   "execution_count": 24,
   "id": "8c26495a-a486-495f-bd8e-8140780e52a3",
   "metadata": {},
   "outputs": [
    {
     "data": {
      "text/plain": [
       "2"
      ]
     },
     "execution_count": 24,
     "metadata": {},
     "output_type": "execute_result"
    }
   ],
   "source": [
    "inventory_parts_df['is_spare'].nunique()"
   ]
  },
  {
   "cell_type": "code",
   "execution_count": 18,
   "id": "d6d0c36b-cdd3-4e5e-b4af-1db66dd7706e",
   "metadata": {},
   "outputs": [
    {
     "data": {
      "image/png": "[encoded data removed]",
      "text/plain": [
       "<Figure size 1296x576 with 1 Axes>"
      ]
     },
     "metadata": {},
     "output_type": "display_data"
    }
   ],
   "source": [
    "plt.figure(figsize = (18, 8))\n",
    "\n",
    "sns.countplot(x = 'color_id', data = inventory_parts_df, palette = 'viridis')\n",
    "\n",
    "plt.title('Frequency of Lego Color',\n",
    "          fontsize = 16,\n",
    "          fontweight = 'bold',\n",
    "          y = 1.05)\n",
    "\n",
    "plt.xticks(fontsize = 8,\n",
    "           rotation = 90)\n",
    "plt.xlabel('Individual Color ID',\n",
    "           fontweight = 'bold')\n",
    "\n",
    "plt.yticks(fontsize = 10,\n",
    "           rotation = 0)\n",
    "plt.ylabel('Number of Legos',\n",
    "           fontweight = 'bold');"
   ]
  },
  {
   "cell_type": "code",
   "execution_count": 26,
   "id": "017b5142-5f09-415a-bb47-bedff2f315b5",
   "metadata": {},
   "outputs": [
    {
     "data": {
      "text/plain": [
       "0     115176\n",
       "15     66549\n",
       "71     55317\n",
       "4      50217\n",
       "72     43913\n",
       "14     38837\n",
       "1      29857\n",
       "7      25339\n",
       "70     14168\n",
       "19     13681\n",
       "Name: color_id, dtype: int64"
      ]
     },
     "execution_count": 26,
     "metadata": {},
     "output_type": "execute_result"
    }
   ],
   "source": [
    "#top 10 most represented colors\n",
    "\n",
    "inventory_parts_df['color_id'].value_counts()[0:10]\n",
    "#inventory_parts_df['color_id'].value_counts()[0:10].index"
   ]
  },
  {
   "cell_type": "code",
   "execution_count": 17,
   "id": "13521873-72ad-4801-becb-c1e528111193",
   "metadata": {},
   "outputs": [
    {
     "data": {
      "text/html": [
       "<div>\n",
       "<style scoped>\n",
       "    .dataframe tbody tr th:only-of-type {\n",
       "        vertical-align: middle;\n",
       "    }\n",
       "\n",
       "    .dataframe tbody tr th {\n",
       "        vertical-align: top;\n",
       "    }\n",
       "\n",
       "    .dataframe thead th {\n",
       "        text-align: right;\n",
       "    }\n",
       "</style>\n",
       "<table border=\"1\" class=\"dataframe\">\n",
       "  <thead>\n",
       "    <tr style=\"text-align: right;\">\n",
       "      <th></th>\n",
       "      <th>name</th>\n",
       "    </tr>\n",
       "  </thead>\n",
       "  <tbody>\n",
       "    <tr>\n",
       "      <th>1</th>\n",
       "      <td>Black</td>\n",
       "    </tr>\n",
       "    <tr>\n",
       "      <th>2</th>\n",
       "      <td>Blue</td>\n",
       "    </tr>\n",
       "    <tr>\n",
       "      <th>5</th>\n",
       "      <td>Red</td>\n",
       "    </tr>\n",
       "    <tr>\n",
       "      <th>8</th>\n",
       "      <td>Light Gray</td>\n",
       "    </tr>\n",
       "    <tr>\n",
       "      <th>15</th>\n",
       "      <td>Yellow</td>\n",
       "    </tr>\n",
       "    <tr>\n",
       "      <th>16</th>\n",
       "      <td>White</td>\n",
       "    </tr>\n",
       "    <tr>\n",
       "      <th>19</th>\n",
       "      <td>Tan</td>\n",
       "    </tr>\n",
       "    <tr>\n",
       "      <th>53</th>\n",
       "      <td>Reddish Brown</td>\n",
       "    </tr>\n",
       "    <tr>\n",
       "      <th>54</th>\n",
       "      <td>Light Bluish Gray</td>\n",
       "    </tr>\n",
       "    <tr>\n",
       "      <th>55</th>\n",
       "      <td>Dark Bluish Gray</td>\n",
       "    </tr>\n",
       "  </tbody>\n",
       "</table>\n",
       "</div>"
      ],
      "text/plain": [
       "                 name\n",
       "1               Black\n",
       "2                Blue\n",
       "5                 Red\n",
       "8          Light Gray\n",
       "15             Yellow\n",
       "16              White\n",
       "19                Tan\n",
       "53      Reddish Brown\n",
       "54  Light Bluish Gray\n",
       "55   Dark Bluish Gray"
      ]
     },
     "execution_count": 17,
     "metadata": {},
     "output_type": "execute_result"
    }
   ],
   "source": [
    "colors_df[colors_df['id'].isin([0, 15, 71, 4, 72, 14, 1, 7, 70, 19])][['name']]\n",
    "#names of the top 10 most represented colors"
   ]
  },
  {
   "cell_type": "code",
   "execution_count": 20,
   "id": "99145ee3-7632-45b8-8f46-359112a81095",
   "metadata": {},
   "outputs": [
    {
     "data": {
      "text/html": [
       "<div>\n",
       "<style scoped>\n",
       "    .dataframe tbody tr th:only-of-type {\n",
       "        vertical-align: middle;\n",
       "    }\n",
       "\n",
       "    .dataframe tbody tr th {\n",
       "        vertical-align: top;\n",
       "    }\n",
       "\n",
       "    .dataframe thead th {\n",
       "        text-align: right;\n",
       "    }\n",
       "</style>\n",
       "<table border=\"1\" class=\"dataframe\">\n",
       "  <thead>\n",
       "    <tr style=\"text-align: right;\">\n",
       "      <th></th>\n",
       "      <th>inventory_id</th>\n",
       "      <th>part_num</th>\n",
       "      <th>color_id</th>\n",
       "      <th>quantity</th>\n",
       "      <th>is_spare</th>\n",
       "    </tr>\n",
       "  </thead>\n",
       "  <tbody>\n",
       "    <tr>\n",
       "      <th>2</th>\n",
       "      <td>1</td>\n",
       "      <td>mcsport6</td>\n",
       "      <td>25</td>\n",
       "      <td>1</td>\n",
       "      <td>f</td>\n",
       "    </tr>\n",
       "    <tr>\n",
       "      <th>4</th>\n",
       "      <td>3</td>\n",
       "      <td>11816pr0005</td>\n",
       "      <td>78</td>\n",
       "      <td>1</td>\n",
       "      <td>f</td>\n",
       "    </tr>\n",
       "    <tr>\n",
       "      <th>5</th>\n",
       "      <td>3</td>\n",
       "      <td>2343</td>\n",
       "      <td>47</td>\n",
       "      <td>1</td>\n",
       "      <td>f</td>\n",
       "    </tr>\n",
       "    <tr>\n",
       "      <th>6</th>\n",
       "      <td>3</td>\n",
       "      <td>3003</td>\n",
       "      <td>29</td>\n",
       "      <td>1</td>\n",
       "      <td>f</td>\n",
       "    </tr>\n",
       "    <tr>\n",
       "      <th>7</th>\n",
       "      <td>3</td>\n",
       "      <td>30176</td>\n",
       "      <td>2</td>\n",
       "      <td>1</td>\n",
       "      <td>f</td>\n",
       "    </tr>\n",
       "  </tbody>\n",
       "</table>\n",
       "</div>"
      ],
      "text/plain": [
       "   inventory_id     part_num  color_id  quantity is_spare\n",
       "2             1     mcsport6        25         1        f\n",
       "4             3  11816pr0005        78         1        f\n",
       "5             3         2343        47         1        f\n",
       "6             3         3003        29         1        f\n",
       "7             3        30176         2         1        f"
      ]
     },
     "execution_count": 20,
     "metadata": {},
     "output_type": "execute_result"
    }
   ],
   "source": [
    "#preparing data for plot which excludes the top 10 most frequent/popular colors:\n",
    "inventory_parts_df[-inventory_parts_df['color_id'].isin([0, 15, 71, 4, 72, 14, 1, 7, 70, 19])].head()"
   ]
  },
  {
   "cell_type": "code",
   "execution_count": 22,
   "id": "1d01b0db-3502-4357-897a-82bb6bd4be91",
   "metadata": {},
   "outputs": [
    {
     "data": {
      "image/png": "[encoded data removed]",
      "text/plain": [
       "<Figure size 1296x576 with 1 Axes>"
      ]
     },
     "metadata": {},
     "output_type": "display_data"
    }
   ],
   "source": [
    "plt.figure(figsize = (18, 8))\n",
    "\n",
    "sns.countplot(x = 'color_id',\n",
    "              data = inventory_parts_df[-inventory_parts_df['color_id'].isin([0, 15, 71, 4, 72, 14, 1, 7, 70, 19])],\n",
    "              palette = 'viridis')\n",
    "\n",
    "plt.title('Frequency of Lego Color (by Part), Top 10 Most Frequent Colors Excluded',\n",
    "          fontsize = 16, fontweight = 'bold', y = 1.05)\n",
    "\n",
    "plt.xticks(fontsize = 8,\n",
    "           rotation = 90)\n",
    "plt.xlabel('Individual Color ID',\n",
    "           fontweight = 'bold')\n",
    "\n",
    "plt.yticks(fontsize = 10,\n",
    "           rotation = 0)\n",
    "plt.ylabel('Number of Legos',\n",
    "           fontweight = 'bold');"
   ]
  },
  {
   "cell_type": "code",
   "execution_count": 24,
   "id": "6027d698-c710-4b42-8563-2df77cb8bdb1",
   "metadata": {},
   "outputs": [
    {
     "data": {
      "image/png": "[encoded data removed]",
      "text/plain": [
       "<Figure size 576x576 with 1 Axes>"
      ]
     },
     "metadata": {},
     "output_type": "display_data"
    }
   ],
   "source": [
    "plt.figure(figsize = (8, 8))\n",
    "\n",
    "sns.countplot(x = 'is_spare', \n",
    "              data = inventory_parts_df,\n",
    "              palette = 'viridis')\n",
    "\n",
    "plt.title('Is the Lego Piece Spare?',\n",
    "          fontsize = 16, \n",
    "          fontweight = 'bold', y = 1.05)\n",
    "\n",
    "plt.xticks(ticks = [0, 1], \n",
    "           labels = ['Not Spare', 'Spare'])\n",
    "plt.xlabel(None)\n",
    "\n",
    "plt.ylabel('Number of Legos',\n",
    "           fontweight = 'bold');"
   ]
  },
  {
   "cell_type": "markdown",
   "id": "d1d64777-8f9e-462e-9de0-c5f292469802",
   "metadata": {},
   "source": [
    "**Examining inventory_sets.csv**"
   ]
  },
  {
   "cell_type": "code",
   "execution_count": 30,
   "id": "4089f2cb-be42-4ba7-a7e4-8ecb2cfc152d",
   "metadata": {},
   "outputs": [
    {
     "data": {
      "text/html": [
       "<div>\n",
       "<style scoped>\n",
       "    .dataframe tbody tr th:only-of-type {\n",
       "        vertical-align: middle;\n",
       "    }\n",
       "\n",
       "    .dataframe tbody tr th {\n",
       "        vertical-align: top;\n",
       "    }\n",
       "\n",
       "    .dataframe thead th {\n",
       "        text-align: right;\n",
       "    }\n",
       "</style>\n",
       "<table border=\"1\" class=\"dataframe\">\n",
       "  <thead>\n",
       "    <tr style=\"text-align: right;\">\n",
       "      <th></th>\n",
       "      <th>inventory_id</th>\n",
       "      <th>set_num</th>\n",
       "      <th>quantity</th>\n",
       "    </tr>\n",
       "  </thead>\n",
       "  <tbody>\n",
       "    <tr>\n",
       "      <th>0</th>\n",
       "      <td>35</td>\n",
       "      <td>75911-1</td>\n",
       "      <td>1</td>\n",
       "    </tr>\n",
       "    <tr>\n",
       "      <th>1</th>\n",
       "      <td>35</td>\n",
       "      <td>75912-1</td>\n",
       "      <td>1</td>\n",
       "    </tr>\n",
       "    <tr>\n",
       "      <th>2</th>\n",
       "      <td>39</td>\n",
       "      <td>75048-1</td>\n",
       "      <td>1</td>\n",
       "    </tr>\n",
       "    <tr>\n",
       "      <th>3</th>\n",
       "      <td>39</td>\n",
       "      <td>75053-1</td>\n",
       "      <td>1</td>\n",
       "    </tr>\n",
       "    <tr>\n",
       "      <th>4</th>\n",
       "      <td>50</td>\n",
       "      <td>4515-1</td>\n",
       "      <td>1</td>\n",
       "    </tr>\n",
       "  </tbody>\n",
       "</table>\n",
       "</div>"
      ],
      "text/plain": [
       "   inventory_id  set_num  quantity\n",
       "0            35  75911-1         1\n",
       "1            35  75912-1         1\n",
       "2            39  75048-1         1\n",
       "3            39  75053-1         1\n",
       "4            50   4515-1         1"
      ]
     },
     "execution_count": 30,
     "metadata": {},
     "output_type": "execute_result"
    }
   ],
   "source": [
    "inventory_sets_df.head()"
   ]
  },
  {
   "cell_type": "code",
   "execution_count": 31,
   "id": "b2617fc4-a16d-4002-a385-e31c9b8c6ea6",
   "metadata": {},
   "outputs": [
    {
     "data": {
      "text/plain": [
       "'The \"inventory_sets_df\" is (2846, 3), rows by columns.'"
      ]
     },
     "execution_count": 31,
     "metadata": {},
     "output_type": "execute_result"
    }
   ],
   "source": [
    "f'The \"inventory_sets_df\" is {inventory_sets_df.shape}, rows by columns.'"
   ]
  },
  {
   "cell_type": "code",
   "execution_count": 32,
   "id": "01da965f-a66c-45ab-9105-71f40282ccd1",
   "metadata": {},
   "outputs": [
    {
     "name": "stdout",
     "output_type": "stream",
     "text": [
      "<class 'pandas.core.frame.DataFrame'>\n",
      "RangeIndex: 2846 entries, 0 to 2845\n",
      "Data columns (total 3 columns):\n",
      " #   Column        Non-Null Count  Dtype \n",
      "---  ------        --------------  ----- \n",
      " 0   inventory_id  2846 non-null   int64 \n",
      " 1   set_num       2846 non-null   object\n",
      " 2   quantity      2846 non-null   int64 \n",
      "dtypes: int64(2), object(1)\n",
      "memory usage: 66.8+ KB\n"
     ]
    }
   ],
   "source": [
    "inventory_sets_df.info()"
   ]
  },
  {
   "cell_type": "code",
   "execution_count": 25,
   "id": "dc7dc58b-5108-477a-aa4f-fa8c5fd34b70",
   "metadata": {},
   "outputs": [
    {
     "data": {
      "text/plain": [
       "589"
      ]
     },
     "execution_count": 25,
     "metadata": {},
     "output_type": "execute_result"
    }
   ],
   "source": [
    "inventory_sets_df['inventory_id'].nunique()"
   ]
  },
  {
   "cell_type": "code",
   "execution_count": 26,
   "id": "edc4baa6-0884-454c-ac48-2b31beb79824",
   "metadata": {},
   "outputs": [
    {
     "data": {
      "text/plain": [
       "2306"
      ]
     },
     "execution_count": 26,
     "metadata": {},
     "output_type": "execute_result"
    }
   ],
   "source": [
    "inventory_sets_df['set_num'].nunique()"
   ]
  },
  {
   "cell_type": "code",
   "execution_count": 27,
   "id": "d72a952b-3f82-4a6e-999f-4b051be2d2e8",
   "metadata": {},
   "outputs": [
    {
     "data": {
      "text/plain": [
       "7"
      ]
     },
     "execution_count": 27,
     "metadata": {},
     "output_type": "execute_result"
    }
   ],
   "source": [
    "inventory_sets_df['quantity'].nunique()"
   ]
  },
  {
   "cell_type": "code",
   "execution_count": 30,
   "id": "6174882e-ddf2-4c58-aa6d-05285ef00515",
   "metadata": {},
   "outputs": [
    {
     "data": {
      "text/plain": [
       "2514     30\n",
       "7363     24\n",
       "10770    24\n",
       "6702     24\n",
       "9926     24\n",
       "         ..\n",
       "11418     1\n",
       "7201      1\n",
       "3392      1\n",
       "7209      1\n",
       "10235     1\n",
       "Name: inventory_id, Length: 589, dtype: int64"
      ]
     },
     "execution_count": 30,
     "metadata": {},
     "output_type": "execute_result"
    }
   ],
   "source": [
    "inventory_sets_df['inventory_id'].value_counts().sort_values(ascending = False)"
   ]
  },
  {
   "cell_type": "code",
   "execution_count": 31,
   "id": "055ef349-1800-4832-8409-bd6a52fb3347",
   "metadata": {},
   "outputs": [
    {
     "data": {
      "text/plain": [
       "7241-1      12\n",
       "7942-1      11\n",
       "3742-1      11\n",
       "3741-1      11\n",
       "7741-1      11\n",
       "            ..\n",
       "7575-17      1\n",
       "60063-10     1\n",
       "8831-0       1\n",
       "4099-1       1\n",
       "1280-1       1\n",
       "Name: set_num, Length: 2306, dtype: int64"
      ]
     },
     "execution_count": 31,
     "metadata": {},
     "output_type": "execute_result"
    }
   ],
   "source": [
    "inventory_sets_df['set_num'].value_counts().sort_values(ascending = False)"
   ]
  },
  {
   "cell_type": "code",
   "execution_count": 29,
   "id": "092047bf-66a6-4b71-a55d-c782ea4380dc",
   "metadata": {},
   "outputs": [
    {
     "data": {
      "text/plain": [
       "1     2793\n",
       "2       28\n",
       "3        5\n",
       "5        1\n",
       "7        1\n",
       "20       1\n",
       "60      17\n",
       "Name: quantity, dtype: int64"
      ]
     },
     "execution_count": 29,
     "metadata": {},
     "output_type": "execute_result"
    }
   ],
   "source": [
    "inventory_sets_df['quantity'].value_counts().sort_index()"
   ]
  },
  {
   "cell_type": "code",
   "execution_count": 34,
   "id": "fd3677bc-80d0-414e-be26-1c3e76ed63f8",
   "metadata": {},
   "outputs": [
    {
     "data": {
      "image/png": "[encoded data removed]",
      "text/plain": [
       "<Figure size 576x576 with 1 Axes>"
      ]
     },
     "metadata": {},
     "output_type": "display_data"
    }
   ],
   "source": [
    "plt.figure(figsize = (8, 8))\n",
    "\n",
    "sns.countplot(x = 'quantity', \n",
    "              data = inventory_sets_df,\n",
    "              palette = 'viridis')\n",
    "\n",
    "plt.title('Counts of Inventories in a Set',\n",
    "          fontsize = 16, \n",
    "          fontweight = 'bold', y = 1.05)\n",
    "\n",
    "plt.xlabel('Quantity of Inventories')\n",
    "\n",
    "plt.ylabel('Counts',\n",
    "           fontweight = 'bold');"
   ]
  },
  {
   "cell_type": "code",
   "execution_count": 38,
   "id": "dbad2f61-b482-4a8e-a2ea-974e7d0066e2",
   "metadata": {},
   "outputs": [
    {
     "data": {
      "image/png": "[encoded data removed]",
      "text/plain": [
       "<Figure size 576x576 with 1 Axes>"
      ]
     },
     "metadata": {},
     "output_type": "display_data"
    }
   ],
   "source": [
    "plt.figure(figsize = (8, 8))\n",
    "\n",
    "sns.countplot(x = 'quantity', \n",
    "              data = inventory_sets_df[inventory_sets_df['quantity'] != 1],\n",
    "              palette = 'viridis')\n",
    "\n",
    "plt.title('Counts of Inventories in a Set - Excluding Sets with 1 Inventory',\n",
    "          fontsize = 16, \n",
    "          fontweight = 'bold', y = 1.05)\n",
    "\n",
    "plt.xlabel('Quantity of Inventories')\n",
    "\n",
    "plt.ylabel('Count',\n",
    "           fontweight = 'bold');"
   ]
  },
  {
   "cell_type": "markdown",
   "id": "8d8ca78f-78fc-4eb1-9ee0-54bcacca1693",
   "metadata": {},
   "source": [
    "**Examining part_categories.csv**"
   ]
  },
  {
   "cell_type": "code",
   "execution_count": 36,
   "id": "e75c9660-1c9e-4564-bc16-7d7d699e1a59",
   "metadata": {},
   "outputs": [
    {
     "data": {
      "text/html": [
       "<div>\n",
       "<style scoped>\n",
       "    .dataframe tbody tr th:only-of-type {\n",
       "        vertical-align: middle;\n",
       "    }\n",
       "\n",
       "    .dataframe tbody tr th {\n",
       "        vertical-align: top;\n",
       "    }\n",
       "\n",
       "    .dataframe thead th {\n",
       "        text-align: right;\n",
       "    }\n",
       "</style>\n",
       "<table border=\"1\" class=\"dataframe\">\n",
       "  <thead>\n",
       "    <tr style=\"text-align: right;\">\n",
       "      <th></th>\n",
       "      <th>id</th>\n",
       "      <th>name</th>\n",
       "    </tr>\n",
       "  </thead>\n",
       "  <tbody>\n",
       "    <tr>\n",
       "      <th>0</th>\n",
       "      <td>1</td>\n",
       "      <td>Baseplates</td>\n",
       "    </tr>\n",
       "    <tr>\n",
       "      <th>1</th>\n",
       "      <td>2</td>\n",
       "      <td>Bricks Printed</td>\n",
       "    </tr>\n",
       "    <tr>\n",
       "      <th>2</th>\n",
       "      <td>3</td>\n",
       "      <td>Bricks Sloped</td>\n",
       "    </tr>\n",
       "    <tr>\n",
       "      <th>3</th>\n",
       "      <td>4</td>\n",
       "      <td>Duplo, Quatro and Primo</td>\n",
       "    </tr>\n",
       "    <tr>\n",
       "      <th>4</th>\n",
       "      <td>5</td>\n",
       "      <td>Bricks Special</td>\n",
       "    </tr>\n",
       "  </tbody>\n",
       "</table>\n",
       "</div>"
      ],
      "text/plain": [
       "   id                     name\n",
       "0   1               Baseplates\n",
       "1   2           Bricks Printed\n",
       "2   3            Bricks Sloped\n",
       "3   4  Duplo, Quatro and Primo\n",
       "4   5           Bricks Special"
      ]
     },
     "execution_count": 36,
     "metadata": {},
     "output_type": "execute_result"
    }
   ],
   "source": [
    "part_categories_df.head()"
   ]
  },
  {
   "cell_type": "code",
   "execution_count": 38,
   "id": "5e9b931f-0b50-49d9-85ff-6659019ce2e0",
   "metadata": {},
   "outputs": [
    {
     "data": {
      "text/plain": [
       "'The \"part_categories_df\" is (57, 2), rows by columns.'"
      ]
     },
     "execution_count": 38,
     "metadata": {},
     "output_type": "execute_result"
    }
   ],
   "source": [
    "f'The \"part_categories_df\" is {part_categories_df.shape}, rows by columns.'"
   ]
  },
  {
   "cell_type": "code",
   "execution_count": 39,
   "id": "ae4f88c3-af62-456c-9aed-15a35d06c864",
   "metadata": {},
   "outputs": [
    {
     "name": "stdout",
     "output_type": "stream",
     "text": [
      "<class 'pandas.core.frame.DataFrame'>\n",
      "RangeIndex: 57 entries, 0 to 56\n",
      "Data columns (total 2 columns):\n",
      " #   Column  Non-Null Count  Dtype \n",
      "---  ------  --------------  ----- \n",
      " 0   id      57 non-null     int64 \n",
      " 1   name    57 non-null     object\n",
      "dtypes: int64(1), object(1)\n",
      "memory usage: 1.0+ KB\n"
     ]
    }
   ],
   "source": [
    "part_categories_df.info()"
   ]
  },
  {
   "cell_type": "code",
   "execution_count": 29,
   "id": "c3aa4ee8-d428-463c-a5dc-0ffd7af3231b",
   "metadata": {
    "tags": []
   },
   "outputs": [
    {
     "data": {
      "text/plain": [
       "array(['Baseplates', 'Bricks Printed', 'Bricks Sloped',\n",
       "       'Duplo, Quatro and Primo', 'Bricks Special', 'Bricks Wedged',\n",
       "       'Containers', 'Technic Bricks', 'Plates Special', 'Tiles Printed',\n",
       "       'Bricks', 'Technic Connectors', 'Minifigs', 'Plates',\n",
       "       'Tiles Special', 'Windows and Doors', 'Non-LEGO',\n",
       "       'Hinges, Arms and Turntables', 'Tiles', 'Bricks Round and Cones',\n",
       "       'Plates Round and Dishes', 'Pneumatics', 'Panels', 'Other',\n",
       "       'Technic Steering, Suspension and Engine', 'Technic Special',\n",
       "       'Minifig Accessories', 'Plants and Animals', 'Wheels and Tyres',\n",
       "       'Tubes and Hoses', 'String, Bands and Reels',\n",
       "       'Bars, Ladders and Fences', 'Rock', 'Supports, Girders and Cranes',\n",
       "       'Transportation - Sea and Air', 'Transportation - Land',\n",
       "       'Bricks Curved', 'Flags, Signs, Plastics and Cloth',\n",
       "       'Magnets and Holders', 'Technic Panels',\n",
       "       'Bionicle, Hero Factory and Constraction',\n",
       "       'Belville, Scala and Fabuland', 'Znap', 'Mechanical',\n",
       "       'Power Functions, Mindstorms and Electric', 'Technic Axles',\n",
       "       'Windscreens and Fuselage', 'Clikits', 'Plates Angled', 'HO Scale',\n",
       "       'Technic Beams', 'Technic Gears', 'Technic Pins', 'Technic Bushes',\n",
       "       'Technic Beams Special', 'Tools',\n",
       "       'Non-Buildable Figures (Duplo, Fabuland, etc)'], dtype=object)"
      ]
     },
     "execution_count": 29,
     "metadata": {},
     "output_type": "execute_result"
    }
   ],
   "source": [
    "part_categories_df['name'].values"
   ]
  },
  {
   "cell_type": "markdown",
   "id": "85ac3931-95e0-4353-924e-1f2d8ba506e7",
   "metadata": {},
   "source": [
    "**Examining parts.csv**"
   ]
  },
  {
   "cell_type": "code",
   "execution_count": 40,
   "id": "9ea4b0d0-b1cf-4103-8cd1-6f5b1f113a3b",
   "metadata": {},
   "outputs": [
    {
     "data": {
      "text/html": [
       "<div>\n",
       "<style scoped>\n",
       "    .dataframe tbody tr th:only-of-type {\n",
       "        vertical-align: middle;\n",
       "    }\n",
       "\n",
       "    .dataframe tbody tr th {\n",
       "        vertical-align: top;\n",
       "    }\n",
       "\n",
       "    .dataframe thead th {\n",
       "        text-align: right;\n",
       "    }\n",
       "</style>\n",
       "<table border=\"1\" class=\"dataframe\">\n",
       "  <thead>\n",
       "    <tr style=\"text-align: right;\">\n",
       "      <th></th>\n",
       "      <th>part_num</th>\n",
       "      <th>name</th>\n",
       "      <th>part_cat_id</th>\n",
       "    </tr>\n",
       "  </thead>\n",
       "  <tbody>\n",
       "    <tr>\n",
       "      <th>0</th>\n",
       "      <td>0687b1</td>\n",
       "      <td>Set 0687 Activity Booklet 1</td>\n",
       "      <td>17</td>\n",
       "    </tr>\n",
       "    <tr>\n",
       "      <th>1</th>\n",
       "      <td>0901</td>\n",
       "      <td>Baseplate 16 x 30 with Set 080 Yellow House Print</td>\n",
       "      <td>1</td>\n",
       "    </tr>\n",
       "    <tr>\n",
       "      <th>2</th>\n",
       "      <td>0902</td>\n",
       "      <td>Baseplate 16 x 24 with Set 080 Small White Hou...</td>\n",
       "      <td>1</td>\n",
       "    </tr>\n",
       "    <tr>\n",
       "      <th>3</th>\n",
       "      <td>0903</td>\n",
       "      <td>Baseplate 16 x 24 with Set 080 Red House Print</td>\n",
       "      <td>1</td>\n",
       "    </tr>\n",
       "    <tr>\n",
       "      <th>4</th>\n",
       "      <td>0904</td>\n",
       "      <td>Baseplate 16 x 24 with Set 080 Large White Hou...</td>\n",
       "      <td>1</td>\n",
       "    </tr>\n",
       "  </tbody>\n",
       "</table>\n",
       "</div>"
      ],
      "text/plain": [
       "  part_num                                               name  part_cat_id\n",
       "0   0687b1                        Set 0687 Activity Booklet 1           17\n",
       "1     0901  Baseplate 16 x 30 with Set 080 Yellow House Print            1\n",
       "2     0902  Baseplate 16 x 24 with Set 080 Small White Hou...            1\n",
       "3     0903     Baseplate 16 x 24 with Set 080 Red House Print            1\n",
       "4     0904  Baseplate 16 x 24 with Set 080 Large White Hou...            1"
      ]
     },
     "execution_count": 40,
     "metadata": {},
     "output_type": "execute_result"
    }
   ],
   "source": [
    "parts_df.head()"
   ]
  },
  {
   "cell_type": "code",
   "execution_count": 42,
   "id": "8017675c-0750-4353-b301-e91be1de8b1c",
   "metadata": {},
   "outputs": [
    {
     "data": {
      "text/plain": [
       "'The \"parts_df\" is (25993, 3), rows by columns.'"
      ]
     },
     "execution_count": 42,
     "metadata": {},
     "output_type": "execute_result"
    }
   ],
   "source": [
    "f'The \"parts_df\" is {parts_df.shape}, rows by columns.'"
   ]
  },
  {
   "cell_type": "code",
   "execution_count": 43,
   "id": "8de79405-7ddb-4688-976c-629be0a9ebb1",
   "metadata": {},
   "outputs": [
    {
     "name": "stdout",
     "output_type": "stream",
     "text": [
      "<class 'pandas.core.frame.DataFrame'>\n",
      "RangeIndex: 25993 entries, 0 to 25992\n",
      "Data columns (total 3 columns):\n",
      " #   Column       Non-Null Count  Dtype \n",
      "---  ------       --------------  ----- \n",
      " 0   part_num     25993 non-null  object\n",
      " 1   name         25993 non-null  object\n",
      " 2   part_cat_id  25993 non-null  int64 \n",
      "dtypes: int64(1), object(2)\n",
      "memory usage: 609.3+ KB\n"
     ]
    }
   ],
   "source": [
    "parts_df.info()"
   ]
  },
  {
   "cell_type": "code",
   "execution_count": 41,
   "id": "1f0feb50-314a-41d6-b55d-c99a31b57541",
   "metadata": {},
   "outputs": [
    {
     "data": {
      "text/plain": [
       "25993"
      ]
     },
     "execution_count": 41,
     "metadata": {},
     "output_type": "execute_result"
    }
   ],
   "source": [
    "parts_df['part_num'].nunique()"
   ]
  },
  {
   "cell_type": "code",
   "execution_count": 39,
   "id": "86d34aea-94fe-47ef-9f79-0e2b180b7ccd",
   "metadata": {},
   "outputs": [
    {
     "data": {
      "text/plain": [
       "25779"
      ]
     },
     "execution_count": 39,
     "metadata": {},
     "output_type": "execute_result"
    }
   ],
   "source": [
    "parts_df['name'].nunique()"
   ]
  },
  {
   "cell_type": "code",
   "execution_count": 40,
   "id": "31b37abe-a7a0-4c82-aa94-71ba672646b8",
   "metadata": {},
   "outputs": [
    {
     "data": {
      "text/plain": [
       "57"
      ]
     },
     "execution_count": 40,
     "metadata": {},
     "output_type": "execute_result"
    }
   ],
   "source": [
    "parts_df['part_cat_id'].nunique()"
   ]
  },
  {
   "cell_type": "code",
   "execution_count": 52,
   "id": "56f266b7-2c8c-44c6-a4f9-47c90a428a83",
   "metadata": {},
   "outputs": [
    {
     "data": {
      "image/png": "[encoded data removed]",
      "text/plain": [
       "<Figure size 1296x864 with 1 Axes>"
      ]
     },
     "metadata": {},
     "output_type": "display_data"
    }
   ],
   "source": [
    "plt.figure(figsize = (18, 12))\n",
    "\n",
    "sns.countplot(x = 'part_cat_id', \n",
    "              data = parts_df,\n",
    "              palette = 'viridis')\n",
    "\n",
    "plt.title('Counts of Category ID by Part',\n",
    "          fontsize = 16, \n",
    "          fontweight = 'bold', y = 1.05)\n",
    "\n",
    "plt.xlabel('Quantity of Inventories',\n",
    "           fontweight = 'bold')\n",
    "\n",
    "plt.ylabel('Count',\n",
    "           fontweight = 'bold');"
   ]
  },
  {
   "cell_type": "code",
   "execution_count": 53,
   "id": "4f1fe995-958f-4bda-8547-16ccb42804a8",
   "metadata": {},
   "outputs": [
    {
     "data": {
      "text/html": [
       "<div>\n",
       "<style scoped>\n",
       "    .dataframe tbody tr th:only-of-type {\n",
       "        vertical-align: middle;\n",
       "    }\n",
       "\n",
       "    .dataframe tbody tr th {\n",
       "        vertical-align: top;\n",
       "    }\n",
       "\n",
       "    .dataframe thead th {\n",
       "        text-align: right;\n",
       "    }\n",
       "</style>\n",
       "<table border=\"1\" class=\"dataframe\">\n",
       "  <thead>\n",
       "    <tr style=\"text-align: right;\">\n",
       "      <th></th>\n",
       "      <th>part_num</th>\n",
       "      <th>name</th>\n",
       "      <th>part_cat_id</th>\n",
       "    </tr>\n",
       "  </thead>\n",
       "  <tbody>\n",
       "    <tr>\n",
       "      <th>13</th>\n",
       "      <td>10048</td>\n",
       "      <td>Minifig Hair Tousled</td>\n",
       "      <td>13</td>\n",
       "    </tr>\n",
       "    <tr>\n",
       "      <th>28</th>\n",
       "      <td>10057</td>\n",
       "      <td>Body / Head Gollum</td>\n",
       "      <td>13</td>\n",
       "    </tr>\n",
       "    <tr>\n",
       "      <th>29</th>\n",
       "      <td>10057pr0001</td>\n",
       "      <td>Body / Head Gollum - Wide Eyes</td>\n",
       "      <td>13</td>\n",
       "    </tr>\n",
       "    <tr>\n",
       "      <th>30</th>\n",
       "      <td>10057pr0002</td>\n",
       "      <td>Body / Head Gollum - Narrow Eyes</td>\n",
       "      <td>13</td>\n",
       "    </tr>\n",
       "    <tr>\n",
       "      <th>31</th>\n",
       "      <td>10058</td>\n",
       "      <td>Arm, Bent [Gollum]</td>\n",
       "      <td>13</td>\n",
       "    </tr>\n",
       "    <tr>\n",
       "      <th>...</th>\n",
       "      <td>...</td>\n",
       "      <td>...</td>\n",
       "      <td>...</td>\n",
       "    </tr>\n",
       "    <tr>\n",
       "      <th>25884</th>\n",
       "      <td>x581c08</td>\n",
       "      <td>Fabuland Figure Bulldog 8 2h</td>\n",
       "      <td>13</td>\n",
       "    </tr>\n",
       "    <tr>\n",
       "      <th>25887</th>\n",
       "      <td>x588c04</td>\n",
       "      <td>Fabuland Figure Elephant 4 with Black Eyes</td>\n",
       "      <td>13</td>\n",
       "    </tr>\n",
       "    <tr>\n",
       "      <th>25889</th>\n",
       "      <td>x592c04</td>\n",
       "      <td>Fabuland Figure Horse 4 6d</td>\n",
       "      <td>13</td>\n",
       "    </tr>\n",
       "    <tr>\n",
       "      <th>25892</th>\n",
       "      <td>x599c04</td>\n",
       "      <td>Fabuland Figure Pig 4 11d</td>\n",
       "      <td>13</td>\n",
       "    </tr>\n",
       "    <tr>\n",
       "      <th>25974</th>\n",
       "      <td>x903pb1</td>\n",
       "      <td>Minifig Head Modified Onaconda Farr</td>\n",
       "      <td>13</td>\n",
       "    </tr>\n",
       "  </tbody>\n",
       "</table>\n",
       "<p>8556 rows × 3 columns</p>\n",
       "</div>"
      ],
      "text/plain": [
       "          part_num                                        name  part_cat_id\n",
       "13           10048                        Minifig Hair Tousled           13\n",
       "28           10057                          Body / Head Gollum           13\n",
       "29     10057pr0001              Body / Head Gollum - Wide Eyes           13\n",
       "30     10057pr0002            Body / Head Gollum - Narrow Eyes           13\n",
       "31           10058                          Arm, Bent [Gollum]           13\n",
       "...            ...                                         ...          ...\n",
       "25884      x581c08                Fabuland Figure Bulldog 8 2h           13\n",
       "25887      x588c04  Fabuland Figure Elephant 4 with Black Eyes           13\n",
       "25889      x592c04                  Fabuland Figure Horse 4 6d           13\n",
       "25892      x599c04                   Fabuland Figure Pig 4 11d           13\n",
       "25974      x903pb1         Minifig Head Modified Onaconda Farr           13\n",
       "\n",
       "[8556 rows x 3 columns]"
      ]
     },
     "execution_count": 53,
     "metadata": {},
     "output_type": "execute_result"
    }
   ],
   "source": [
    "parts_df[parts_df['part_cat_id'] == 13]\n",
    "#13 appears to represent the category 'minifig'"
   ]
  },
  {
   "cell_type": "code",
   "execution_count": 49,
   "id": "8bd13ef8-0839-487a-85a0-a5c7d9a6ecee",
   "metadata": {},
   "outputs": [
    {
     "data": {
      "text/plain": [
       "Minifig                                                          38\n",
       "Minifig - Jack Stone                                             18\n",
       "Minifig Head Modified Wookiee [Plain]                             4\n",
       "Minifig - 4 Juniors                                               4\n",
       "Plate 8 x 8                                                       3\n",
       "Minifig Head Standard Grin Print [Blocked Open Stud]              3\n",
       "Duplo Figure Child with Black Pigtails(Braids)                    3\n",
       "Duplo Bear Adult New Style                                        3\n",
       "Duplo Brick 2 x 3 with Curved Top and Eye Print on Both Sides     3\n",
       "Minifig Ninjago Wrap with Silver 3 Point Emblem Print             3\n",
       "Name: name, dtype: int64"
      ]
     },
     "execution_count": 49,
     "metadata": {},
     "output_type": "execute_result"
    }
   ],
   "source": [
    "parts_df['name'].value_counts()[0:10]"
   ]
  },
  {
   "cell_type": "code",
   "execution_count": 44,
   "id": "ace42d16-8192-4cd3-86ba-e40aa41309b9",
   "metadata": {},
   "outputs": [
    {
     "data": {
      "text/plain": [
       "Int64Index([13, 27, 17,  4, 10, 24, 41,  2, 28, 45, 38,  3, 36, 16, 48, 37, 29,\n",
       "            47,  1, 42, 20, 35, 23,  6,  9, 18, 26, 30, 21, 15,  7,  5, 32, 57,\n",
       "            11, 12, 31, 34, 25, 52, 14, 49, 40, 39, 33, 51, 19, 44, 46, 22,  8,\n",
       "            50, 55, 43, 53, 54, 56],\n",
       "           dtype='int64')"
      ]
     },
     "execution_count": 44,
     "metadata": {},
     "output_type": "execute_result"
    }
   ],
   "source": [
    "#creating a sorted list of parts by value_count (frequency)\n",
    "parts_index = parts_df['part_cat_id'].value_counts().index\n",
    "parts_index"
   ]
  },
  {
   "cell_type": "code",
   "execution_count": 45,
   "id": "a5f799ea-50fe-47e6-8f0b-c134d5b2c9bc",
   "metadata": {},
   "outputs": [],
   "source": [
    "#creating sorted index for mapping\n",
    "sorter_index = dict(zip(parts_index, range(len(parts_index))))\n",
    "#sorter_index"
   ]
  },
  {
   "cell_type": "code",
   "execution_count": 46,
   "id": "1df538d5-899b-4ccc-a11f-a7e552cf1bde",
   "metadata": {},
   "outputs": [
    {
     "data": {
      "text/html": [
       "<div>\n",
       "<style scoped>\n",
       "    .dataframe tbody tr th:only-of-type {\n",
       "        vertical-align: middle;\n",
       "    }\n",
       "\n",
       "    .dataframe tbody tr th {\n",
       "        vertical-align: top;\n",
       "    }\n",
       "\n",
       "    .dataframe thead th {\n",
       "        text-align: right;\n",
       "    }\n",
       "</style>\n",
       "<table border=\"1\" class=\"dataframe\">\n",
       "  <thead>\n",
       "    <tr style=\"text-align: right;\">\n",
       "      <th></th>\n",
       "      <th>id</th>\n",
       "      <th>name</th>\n",
       "      <th>parts_rank</th>\n",
       "    </tr>\n",
       "  </thead>\n",
       "  <tbody>\n",
       "    <tr>\n",
       "      <th>12</th>\n",
       "      <td>13</td>\n",
       "      <td>Minifigs</td>\n",
       "      <td>0</td>\n",
       "    </tr>\n",
       "    <tr>\n",
       "      <th>26</th>\n",
       "      <td>27</td>\n",
       "      <td>Minifig Accessories</td>\n",
       "      <td>1</td>\n",
       "    </tr>\n",
       "    <tr>\n",
       "      <th>16</th>\n",
       "      <td>17</td>\n",
       "      <td>Non-LEGO</td>\n",
       "      <td>2</td>\n",
       "    </tr>\n",
       "    <tr>\n",
       "      <th>3</th>\n",
       "      <td>4</td>\n",
       "      <td>Duplo, Quatro and Primo</td>\n",
       "      <td>3</td>\n",
       "    </tr>\n",
       "    <tr>\n",
       "      <th>9</th>\n",
       "      <td>10</td>\n",
       "      <td>Tiles Printed</td>\n",
       "      <td>4</td>\n",
       "    </tr>\n",
       "  </tbody>\n",
       "</table>\n",
       "</div>"
      ],
      "text/plain": [
       "    id                     name  parts_rank\n",
       "12  13                 Minifigs           0\n",
       "26  27      Minifig Accessories           1\n",
       "16  17                 Non-LEGO           2\n",
       "3    4  Duplo, Quatro and Primo           3\n",
       "9   10            Tiles Printed           4"
      ]
     },
     "execution_count": 46,
     "metadata": {},
     "output_type": "execute_result"
    }
   ],
   "source": [
    "#sorted part_categories_df by the frequency of part_cat_id\n",
    "part_categories_df['parts_rank'] = part_categories_df['id'].map(sorter_index)\n",
    "part_categories_df.sort_values('parts_rank').head(5)"
   ]
  },
  {
   "cell_type": "code",
   "execution_count": 47,
   "id": "a3d05e9d-40fa-4f0d-927a-73e3efc012b6",
   "metadata": {},
   "outputs": [
    {
     "data": {
      "text/html": [
       "<div>\n",
       "<style scoped>\n",
       "    .dataframe tbody tr th:only-of-type {\n",
       "        vertical-align: middle;\n",
       "    }\n",
       "\n",
       "    .dataframe tbody tr th {\n",
       "        vertical-align: top;\n",
       "    }\n",
       "\n",
       "    .dataframe thead th {\n",
       "        text-align: right;\n",
       "    }\n",
       "</style>\n",
       "<table border=\"1\" class=\"dataframe\">\n",
       "  <thead>\n",
       "    <tr style=\"text-align: right;\">\n",
       "      <th></th>\n",
       "      <th>id</th>\n",
       "      <th>name</th>\n",
       "      <th>parts_rank</th>\n",
       "    </tr>\n",
       "  </thead>\n",
       "  <tbody>\n",
       "    <tr>\n",
       "      <th>54</th>\n",
       "      <td>55</td>\n",
       "      <td>Technic Beams Special</td>\n",
       "      <td>52</td>\n",
       "    </tr>\n",
       "    <tr>\n",
       "      <th>42</th>\n",
       "      <td>43</td>\n",
       "      <td>Znap</td>\n",
       "      <td>53</td>\n",
       "    </tr>\n",
       "    <tr>\n",
       "      <th>52</th>\n",
       "      <td>53</td>\n",
       "      <td>Technic Pins</td>\n",
       "      <td>54</td>\n",
       "    </tr>\n",
       "    <tr>\n",
       "      <th>53</th>\n",
       "      <td>54</td>\n",
       "      <td>Technic Bushes</td>\n",
       "      <td>55</td>\n",
       "    </tr>\n",
       "    <tr>\n",
       "      <th>55</th>\n",
       "      <td>56</td>\n",
       "      <td>Tools</td>\n",
       "      <td>56</td>\n",
       "    </tr>\n",
       "  </tbody>\n",
       "</table>\n",
       "</div>"
      ],
      "text/plain": [
       "    id                   name  parts_rank\n",
       "54  55  Technic Beams Special          52\n",
       "42  43                   Znap          53\n",
       "52  53           Technic Pins          54\n",
       "53  54         Technic Bushes          55\n",
       "55  56                  Tools          56"
      ]
     },
     "execution_count": 47,
     "metadata": {},
     "output_type": "execute_result"
    }
   ],
   "source": [
    "part_categories_df.sort_values('parts_rank').tail(5)"
   ]
  },
  {
   "cell_type": "markdown",
   "id": "aa825ddd-e8e6-4259-9826-62790b527a8f",
   "metadata": {},
   "source": [
    "**Examining sets.csv**"
   ]
  },
  {
   "cell_type": "code",
   "execution_count": 48,
   "id": "356d5f16-81ae-4723-a901-65fd7ba30947",
   "metadata": {},
   "outputs": [
    {
     "data": {
      "text/html": [
       "<div>\n",
       "<style scoped>\n",
       "    .dataframe tbody tr th:only-of-type {\n",
       "        vertical-align: middle;\n",
       "    }\n",
       "\n",
       "    .dataframe tbody tr th {\n",
       "        vertical-align: top;\n",
       "    }\n",
       "\n",
       "    .dataframe thead th {\n",
       "        text-align: right;\n",
       "    }\n",
       "</style>\n",
       "<table border=\"1\" class=\"dataframe\">\n",
       "  <thead>\n",
       "    <tr style=\"text-align: right;\">\n",
       "      <th></th>\n",
       "      <th>set_num</th>\n",
       "      <th>name</th>\n",
       "      <th>year</th>\n",
       "      <th>theme_id</th>\n",
       "      <th>num_parts</th>\n",
       "    </tr>\n",
       "  </thead>\n",
       "  <tbody>\n",
       "    <tr>\n",
       "      <th>0</th>\n",
       "      <td>00-1</td>\n",
       "      <td>Weetabix Castle</td>\n",
       "      <td>1970</td>\n",
       "      <td>414</td>\n",
       "      <td>471</td>\n",
       "    </tr>\n",
       "    <tr>\n",
       "      <th>1</th>\n",
       "      <td>0011-2</td>\n",
       "      <td>Town Mini-Figures</td>\n",
       "      <td>1978</td>\n",
       "      <td>84</td>\n",
       "      <td>12</td>\n",
       "    </tr>\n",
       "    <tr>\n",
       "      <th>2</th>\n",
       "      <td>0011-3</td>\n",
       "      <td>Castle 2 for 1 Bonus Offer</td>\n",
       "      <td>1987</td>\n",
       "      <td>199</td>\n",
       "      <td>2</td>\n",
       "    </tr>\n",
       "    <tr>\n",
       "      <th>3</th>\n",
       "      <td>0012-1</td>\n",
       "      <td>Space Mini-Figures</td>\n",
       "      <td>1979</td>\n",
       "      <td>143</td>\n",
       "      <td>12</td>\n",
       "    </tr>\n",
       "    <tr>\n",
       "      <th>4</th>\n",
       "      <td>0013-1</td>\n",
       "      <td>Space Mini-Figures</td>\n",
       "      <td>1979</td>\n",
       "      <td>143</td>\n",
       "      <td>12</td>\n",
       "    </tr>\n",
       "  </tbody>\n",
       "</table>\n",
       "</div>"
      ],
      "text/plain": [
       "  set_num                        name  year  theme_id  num_parts\n",
       "0    00-1             Weetabix Castle  1970       414        471\n",
       "1  0011-2           Town Mini-Figures  1978        84         12\n",
       "2  0011-3  Castle 2 for 1 Bonus Offer  1987       199          2\n",
       "3  0012-1          Space Mini-Figures  1979       143         12\n",
       "4  0013-1          Space Mini-Figures  1979       143         12"
      ]
     },
     "execution_count": 48,
     "metadata": {},
     "output_type": "execute_result"
    }
   ],
   "source": [
    "sets_df.head()"
   ]
  },
  {
   "cell_type": "code",
   "execution_count": 49,
   "id": "05f69bed-fd68-4a43-8c01-ed0429c1a936",
   "metadata": {},
   "outputs": [
    {
     "data": {
      "text/plain": [
       "'The \"sets_df\" is (11673, 5), rows by columns.'"
      ]
     },
     "execution_count": 49,
     "metadata": {},
     "output_type": "execute_result"
    }
   ],
   "source": [
    "f'The \"sets_df\" is {sets_df.shape}, rows by columns.'"
   ]
  },
  {
   "cell_type": "code",
   "execution_count": 50,
   "id": "77b3dc57-aceb-4bc7-a65d-3989b4fa0756",
   "metadata": {},
   "outputs": [
    {
     "name": "stdout",
     "output_type": "stream",
     "text": [
      "<class 'pandas.core.frame.DataFrame'>\n",
      "RangeIndex: 11673 entries, 0 to 11672\n",
      "Data columns (total 5 columns):\n",
      " #   Column     Non-Null Count  Dtype \n",
      "---  ------     --------------  ----- \n",
      " 0   set_num    11673 non-null  object\n",
      " 1   name       11673 non-null  object\n",
      " 2   year       11673 non-null  int64 \n",
      " 3   theme_id   11673 non-null  int64 \n",
      " 4   num_parts  11673 non-null  int64 \n",
      "dtypes: int64(3), object(2)\n",
      "memory usage: 456.1+ KB\n"
     ]
    }
   ],
   "source": [
    "sets_df.info()"
   ]
  },
  {
   "cell_type": "code",
   "execution_count": 51,
   "id": "9e60642f-8995-43ee-8c6e-721153265bd1",
   "metadata": {},
   "outputs": [
    {
     "data": {
      "text/html": [
       "<div>\n",
       "<style scoped>\n",
       "    .dataframe tbody tr th:only-of-type {\n",
       "        vertical-align: middle;\n",
       "    }\n",
       "\n",
       "    .dataframe tbody tr th {\n",
       "        vertical-align: top;\n",
       "    }\n",
       "\n",
       "    .dataframe thead th {\n",
       "        text-align: right;\n",
       "    }\n",
       "</style>\n",
       "<table border=\"1\" class=\"dataframe\">\n",
       "  <thead>\n",
       "    <tr style=\"text-align: right;\">\n",
       "      <th></th>\n",
       "      <th>set_num</th>\n",
       "      <th>name</th>\n",
       "      <th>year</th>\n",
       "      <th>theme_id</th>\n",
       "      <th>num_parts</th>\n",
       "    </tr>\n",
       "  </thead>\n",
       "  <tbody>\n",
       "    <tr>\n",
       "      <th>6935</th>\n",
       "      <td>700.1.1-1</td>\n",
       "      <td>Individual 2 x 4 Bricks</td>\n",
       "      <td>1950</td>\n",
       "      <td>371</td>\n",
       "      <td>10</td>\n",
       "    </tr>\n",
       "    <tr>\n",
       "      <th>6938</th>\n",
       "      <td>700.1.2-1</td>\n",
       "      <td>Individual 2 x 2 Bricks</td>\n",
       "      <td>1950</td>\n",
       "      <td>371</td>\n",
       "      <td>9</td>\n",
       "    </tr>\n",
       "    <tr>\n",
       "      <th>6956</th>\n",
       "      <td>700.B.1-1</td>\n",
       "      <td>Individual 1 x 4 x 2 Window (without glass)</td>\n",
       "      <td>1950</td>\n",
       "      <td>371</td>\n",
       "      <td>7</td>\n",
       "    </tr>\n",
       "    <tr>\n",
       "      <th>6957</th>\n",
       "      <td>700.B.2-1</td>\n",
       "      <td>Individual 1 x 2 x 3 Window (without glass)</td>\n",
       "      <td>1950</td>\n",
       "      <td>371</td>\n",
       "      <td>7</td>\n",
       "    </tr>\n",
       "    <tr>\n",
       "      <th>6959</th>\n",
       "      <td>700.B.4-1</td>\n",
       "      <td>Individual 1 x 2 x 4 Door (without glass)</td>\n",
       "      <td>1950</td>\n",
       "      <td>371</td>\n",
       "      <td>7</td>\n",
       "    </tr>\n",
       "    <tr>\n",
       "      <th>...</th>\n",
       "      <td>...</td>\n",
       "      <td>...</td>\n",
       "      <td>...</td>\n",
       "      <td>...</td>\n",
       "      <td>...</td>\n",
       "    </tr>\n",
       "    <tr>\n",
       "      <th>7287</th>\n",
       "      <td>70900-1</td>\n",
       "      <td>The Joker Balloon Escape</td>\n",
       "      <td>2017</td>\n",
       "      <td>484</td>\n",
       "      <td>123</td>\n",
       "    </tr>\n",
       "    <tr>\n",
       "      <th>5746</th>\n",
       "      <td>60145-1</td>\n",
       "      <td>Buggy</td>\n",
       "      <td>2017</td>\n",
       "      <td>63</td>\n",
       "      <td>80</td>\n",
       "    </tr>\n",
       "    <tr>\n",
       "      <th>5747</th>\n",
       "      <td>60146-1</td>\n",
       "      <td>Stunt Truck</td>\n",
       "      <td>2017</td>\n",
       "      <td>52</td>\n",
       "      <td>90</td>\n",
       "    </tr>\n",
       "    <tr>\n",
       "      <th>7294</th>\n",
       "      <td>70905-1</td>\n",
       "      <td>The Batmobile</td>\n",
       "      <td>2017</td>\n",
       "      <td>484</td>\n",
       "      <td>580</td>\n",
       "    </tr>\n",
       "    <tr>\n",
       "      <th>3696</th>\n",
       "      <td>41588-1</td>\n",
       "      <td>The Joker</td>\n",
       "      <td>2017</td>\n",
       "      <td>610</td>\n",
       "      <td>151</td>\n",
       "    </tr>\n",
       "  </tbody>\n",
       "</table>\n",
       "<p>11673 rows × 5 columns</p>\n",
       "</div>"
      ],
      "text/plain": [
       "        set_num                                         name  year  theme_id  \\\n",
       "6935  700.1.1-1                      Individual 2 x 4 Bricks  1950       371   \n",
       "6938  700.1.2-1                      Individual 2 x 2 Bricks  1950       371   \n",
       "6956  700.B.1-1  Individual 1 x 4 x 2 Window (without glass)  1950       371   \n",
       "6957  700.B.2-1  Individual 1 x 2 x 3 Window (without glass)  1950       371   \n",
       "6959  700.B.4-1    Individual 1 x 2 x 4 Door (without glass)  1950       371   \n",
       "...         ...                                          ...   ...       ...   \n",
       "7287    70900-1                     The Joker Balloon Escape  2017       484   \n",
       "5746    60145-1                                        Buggy  2017        63   \n",
       "5747    60146-1                                  Stunt Truck  2017        52   \n",
       "7294    70905-1                                The Batmobile  2017       484   \n",
       "3696    41588-1                                    The Joker  2017       610   \n",
       "\n",
       "      num_parts  \n",
       "6935         10  \n",
       "6938          9  \n",
       "6956          7  \n",
       "6957          7  \n",
       "6959          7  \n",
       "...         ...  \n",
       "7287        123  \n",
       "5746         80  \n",
       "5747         90  \n",
       "7294        580  \n",
       "3696        151  \n",
       "\n",
       "[11673 rows x 5 columns]"
      ]
     },
     "execution_count": 51,
     "metadata": {},
     "output_type": "execute_result"
    }
   ],
   "source": [
    "sets_df.sort_values('year')"
   ]
  },
  {
   "cell_type": "code",
   "execution_count": 60,
   "id": "1c5185a5-e967-4009-9466-e8e87d51f4ea",
   "metadata": {},
   "outputs": [
    {
     "data": {
      "text/html": [
       "<div>\n",
       "<style scoped>\n",
       "    .dataframe tbody tr th:only-of-type {\n",
       "        vertical-align: middle;\n",
       "    }\n",
       "\n",
       "    .dataframe tbody tr th {\n",
       "        vertical-align: top;\n",
       "    }\n",
       "\n",
       "    .dataframe thead th {\n",
       "        text-align: right;\n",
       "    }\n",
       "</style>\n",
       "<table border=\"1\" class=\"dataframe\">\n",
       "  <thead>\n",
       "    <tr style=\"text-align: right;\">\n",
       "      <th></th>\n",
       "      <th>set_num</th>\n",
       "      <th>name</th>\n",
       "      <th>year</th>\n",
       "      <th>theme_id</th>\n",
       "      <th>num_parts</th>\n",
       "    </tr>\n",
       "  </thead>\n",
       "  <tbody>\n",
       "    <tr>\n",
       "      <th>8896</th>\n",
       "      <td>7922-1</td>\n",
       "      <td>McDonald's Sports Set Number 6 - Orange Vest S...</td>\n",
       "      <td>2004</td>\n",
       "      <td>460</td>\n",
       "      <td>4</td>\n",
       "    </tr>\n",
       "  </tbody>\n",
       "</table>\n",
       "</div>"
      ],
      "text/plain": [
       "     set_num                                               name  year  \\\n",
       "8896  7922-1  McDonald's Sports Set Number 6 - Orange Vest S...  2004   \n",
       "\n",
       "      theme_id  num_parts  \n",
       "8896       460          4  "
      ]
     },
     "execution_count": 60,
     "metadata": {},
     "output_type": "execute_result"
    }
   ],
   "source": [
    "#looking at an set_num 7922-1, which appears frequently in subsequent notebooks\n",
    "sets_df[sets_df['set_num'] == '7922-1']"
   ]
  },
  {
   "cell_type": "code",
   "execution_count": 52,
   "id": "94c1d704-f45c-4c9e-865a-d7f0dd9c8656",
   "metadata": {},
   "outputs": [
    {
     "data": {
      "text/plain": [
       "1950      7\n",
       "1953      4\n",
       "1954     14\n",
       "1955     28\n",
       "1956     12\n",
       "       ... \n",
       "2013    593\n",
       "2014    713\n",
       "2015    665\n",
       "2016    596\n",
       "2017    296\n",
       "Name: year, Length: 66, dtype: int64"
      ]
     },
     "execution_count": 52,
     "metadata": {},
     "output_type": "execute_result"
    }
   ],
   "source": [
    "#number of sets produced per year:\n",
    "sets_df['year'].value_counts().sort_index()"
   ]
  },
  {
   "cell_type": "code",
   "execution_count": 37,
   "id": "9321ce57-81f1-47cf-8fad-ee6c46bad0bd",
   "metadata": {},
   "outputs": [
    {
     "data": {
      "image/png": "[encoded data removed]",
      "text/plain": [
       "<Figure size 1296x864 with 1 Axes>"
      ]
     },
     "metadata": {},
     "output_type": "display_data"
    }
   ],
   "source": [
    "plt.figure(figsize = (18, 12))\n",
    "\n",
    "sns.countplot(x = 'year',\n",
    "              data = sets_df,\n",
    "              palette = 'viridis')\n",
    "\n",
    "plt.title('Number of Lego Sets Produced per Year',\n",
    "          fontsize = 16,\n",
    "          fontweight = 'bold')\n",
    "\n",
    "plt.xlabel('Year Produced')\n",
    "plt.xticks(fontsize = 10,\n",
    "           rotation = 90)\n",
    "\n",
    "plt.ylabel('Count');\n",
    "#no sets were manufactured in 1951 or 1952"
   ]
  },
  {
   "cell_type": "code",
   "execution_count": 54,
   "id": "c10876d1-b27f-42ab-a0d2-95316e95179f",
   "metadata": {},
   "outputs": [
    {
     "data": {
      "text/plain": [
       "year\n",
       "1950     10.142857\n",
       "1953     16.500000\n",
       "1954     12.357143\n",
       "1955     36.857143\n",
       "1956     18.500000\n",
       "           ...    \n",
       "2013    181.344013\n",
       "2014    169.715288\n",
       "2015    201.669173\n",
       "2016    253.077181\n",
       "2017    260.820946\n",
       "Name: num_parts, Length: 66, dtype: float64"
      ]
     },
     "execution_count": 54,
     "metadata": {},
     "output_type": "execute_result"
    }
   ],
   "source": [
    "avg_parts_year = sets_df.groupby('year')['num_parts'].mean()\n",
    "avg_parts_year"
   ]
  },
  {
   "cell_type": "code",
   "execution_count": 40,
   "id": "6c7a686e-0b6f-452a-83a6-3a3e2a4ffa77",
   "metadata": {},
   "outputs": [
    {
     "data": {
      "image/png": "[encoded data removed]",
      "text/plain": [
       "<Figure size 1296x864 with 1 Axes>"
      ]
     },
     "metadata": {},
     "output_type": "display_data"
    }
   ],
   "source": [
    "#array of average number of set parts per year: \n",
    "avg_parts_year = sets_df.groupby('year')['num_parts'].mean()\n",
    "\n",
    "#plotting:\n",
    "\n",
    "plt.figure(figsize = (18, 12))\n",
    "\n",
    "avg_parts_year.plot(color = 'gold',\n",
    "                    linewidth = 4)\n",
    "\n",
    "plt.title('Average Number of Parts in a Lego Set - per Year',\n",
    "          fontsize = 16,\n",
    "          fontweight = 'bold')\n",
    "\n",
    "plt.xlabel('Year',\n",
    "           fontweight = 'bold')\n",
    "plt.xticks(fontsize = 10)\n",
    "plt.ylabel('Number of Parts',\n",
    "           fontweight = 'bold');"
   ]
  },
  {
   "cell_type": "code",
   "execution_count": 43,
   "id": "cc6d35d8-a0ea-4a7f-982a-54457f11a83d",
   "metadata": {},
   "outputs": [
    {
     "data": {
      "text/plain": [
       "[1950, 1953, 1954, 1955, 1956, 1957, 1958, 1959, 1960, 1961]"
      ]
     },
     "execution_count": 43,
     "metadata": {},
     "output_type": "execute_result"
    }
   ],
   "source": [
    "set_years = sorted(sets_df['year'].unique())\n",
    "set_years[0:10]\n",
    "\n",
    "#note, years 1951, 1952 no sets were produced,\n",
    "#going to check the set of years for missing elements in sequence"
   ]
  },
  {
   "cell_type": "code",
   "execution_count": 59,
   "id": "a51513e7-dcd4-4ad5-a97a-fe6dee725525",
   "metadata": {
    "tags": []
   },
   "outputs": [],
   "source": [
    "#https://stackoverflow.com/questions/16974047/efficient-way-to-find-missing-elements-in-an-integer-sequence\n",
    "def missing_elements(L):\n",
    "    start, end = L[0], L[-1]\n",
    "    return sorted(set(range(start, end + 1)).difference(L))"
   ]
  },
  {
   "cell_type": "code",
   "execution_count": 60,
   "id": "55871d1a-deea-40c4-a6a0-1c474e723a4e",
   "metadata": {
    "tags": []
   },
   "outputs": [
    {
     "data": {
      "text/plain": [
       "[1951, 1952]"
      ]
     },
     "execution_count": 60,
     "metadata": {},
     "output_type": "execute_result"
    }
   ],
   "source": [
    "missing_elements(set_years)\n",
    "#confirming that 1951 and 1952 were the only years sets were not made."
   ]
  },
  {
   "cell_type": "code",
   "execution_count": 61,
   "id": "870f54f5-020b-456d-a5da-555b2d4ff95d",
   "metadata": {},
   "outputs": [
    {
     "data": {
      "text/html": [
       "<div>\n",
       "<style scoped>\n",
       "    .dataframe tbody tr th:only-of-type {\n",
       "        vertical-align: middle;\n",
       "    }\n",
       "\n",
       "    .dataframe tbody tr th {\n",
       "        vertical-align: top;\n",
       "    }\n",
       "\n",
       "    .dataframe thead th {\n",
       "        text-align: right;\n",
       "    }\n",
       "</style>\n",
       "<table border=\"1\" class=\"dataframe\">\n",
       "  <thead>\n",
       "    <tr style=\"text-align: right;\">\n",
       "      <th></th>\n",
       "      <th>set_num</th>\n",
       "      <th>name</th>\n",
       "      <th>year</th>\n",
       "      <th>theme_id</th>\n",
       "      <th>num_parts</th>\n",
       "    </tr>\n",
       "  </thead>\n",
       "  <tbody>\n",
       "    <tr>\n",
       "      <th>6935</th>\n",
       "      <td>700.1.1-1</td>\n",
       "      <td>Individual 2 x 4 Bricks</td>\n",
       "      <td>1950</td>\n",
       "      <td>371</td>\n",
       "      <td>10</td>\n",
       "    </tr>\n",
       "    <tr>\n",
       "      <th>6938</th>\n",
       "      <td>700.1.2-1</td>\n",
       "      <td>Individual 2 x 2 Bricks</td>\n",
       "      <td>1950</td>\n",
       "      <td>371</td>\n",
       "      <td>9</td>\n",
       "    </tr>\n",
       "    <tr>\n",
       "      <th>6954</th>\n",
       "      <td>700.A-1</td>\n",
       "      <td>Automatic Binding Bricks Small Brick Set (Lego...</td>\n",
       "      <td>1950</td>\n",
       "      <td>366</td>\n",
       "      <td>24</td>\n",
       "    </tr>\n",
       "    <tr>\n",
       "      <th>6956</th>\n",
       "      <td>700.B.1-1</td>\n",
       "      <td>Individual 1 x 4 x 2 Window (without glass)</td>\n",
       "      <td>1950</td>\n",
       "      <td>371</td>\n",
       "      <td>7</td>\n",
       "    </tr>\n",
       "    <tr>\n",
       "      <th>6957</th>\n",
       "      <td>700.B.2-1</td>\n",
       "      <td>Individual 1 x 2 x 3 Window (without glass)</td>\n",
       "      <td>1950</td>\n",
       "      <td>371</td>\n",
       "      <td>7</td>\n",
       "    </tr>\n",
       "    <tr>\n",
       "      <th>6958</th>\n",
       "      <td>700.B.3-1</td>\n",
       "      <td>Individual 1 x 2 x 2 Window (without glass)</td>\n",
       "      <td>1950</td>\n",
       "      <td>371</td>\n",
       "      <td>7</td>\n",
       "    </tr>\n",
       "    <tr>\n",
       "      <th>6959</th>\n",
       "      <td>700.B.4-1</td>\n",
       "      <td>Individual 1 x 2 x 4 Door (without glass)</td>\n",
       "      <td>1950</td>\n",
       "      <td>371</td>\n",
       "      <td>7</td>\n",
       "    </tr>\n",
       "  </tbody>\n",
       "</table>\n",
       "</div>"
      ],
      "text/plain": [
       "        set_num                                               name  year  \\\n",
       "6935  700.1.1-1                            Individual 2 x 4 Bricks  1950   \n",
       "6938  700.1.2-1                            Individual 2 x 2 Bricks  1950   \n",
       "6954    700.A-1  Automatic Binding Bricks Small Brick Set (Lego...  1950   \n",
       "6956  700.B.1-1        Individual 1 x 4 x 2 Window (without glass)  1950   \n",
       "6957  700.B.2-1        Individual 1 x 2 x 3 Window (without glass)  1950   \n",
       "6958  700.B.3-1        Individual 1 x 2 x 2 Window (without glass)  1950   \n",
       "6959  700.B.4-1          Individual 1 x 2 x 4 Door (without glass)  1950   \n",
       "\n",
       "      theme_id  num_parts  \n",
       "6935       371         10  \n",
       "6938       371          9  \n",
       "6954       366         24  \n",
       "6956       371          7  \n",
       "6957       371          7  \n",
       "6958       371          7  \n",
       "6959       371          7  "
      ]
     },
     "execution_count": 61,
     "metadata": {},
     "output_type": "execute_result"
    }
   ],
   "source": [
    "sets_df[sets_df['year'] == 1950]"
   ]
  },
  {
   "cell_type": "code",
   "execution_count": 41,
   "id": "7c2beed7-8c72-46c8-92e0-04cc919554bb",
   "metadata": {},
   "outputs": [
    {
     "data": {
      "text/plain": [
       "year  theme_id\n",
       "1950  366          24.000000\n",
       "      371           7.833333\n",
       "1953  371          16.500000\n",
       "1954  371           6.083333\n",
       "      372          50.000000\n",
       "                     ...    \n",
       "2017  605         167.947368\n",
       "      610         111.250000\n",
       "      611          12.888889\n",
       "      612         115.000000\n",
       "      614         400.500000\n",
       "Name: num_parts, Length: 2492, dtype: float64"
      ]
     },
     "execution_count": 41,
     "metadata": {},
     "output_type": "execute_result"
    }
   ],
   "source": [
    "avg_parts_year_by_theme = sets_df.groupby(['year', 'theme_id'])['num_parts'].mean()\n",
    "avg_parts_year_by_theme"
   ]
  },
  {
   "cell_type": "code",
   "execution_count": 64,
   "id": "e9aa4967-65b5-41d2-8e37-3a6c6c3fcea7",
   "metadata": {},
   "outputs": [
    {
     "data": {
      "image/png": "[encoded data removed]",
      "text/plain": [
       "<Figure size 432x288 with 1 Axes>"
      ]
     },
     "metadata": {},
     "output_type": "display_data"
    }
   ],
   "source": [
    "#sample attempt:\n",
    "sns.countplot(x = 'theme_id', \n",
    "              data = sets_df[sets_df['year'] == 1950],\n",
    "              palette = 'viridis');"
   ]
  },
  {
   "cell_type": "code",
   "execution_count": 54,
   "id": "4b6a98c3-4fb4-4246-8f51-92038e5d39ac",
   "metadata": {},
   "outputs": [
    {
     "data": {
      "image/png": "[encoded data removed]",
      "text/plain": [
       "<Figure size 1152x6336 with 11 Axes>"
      ]
     },
     "metadata": {},
     "output_type": "display_data"
    }
   ],
   "source": [
    "fig, axs = plt.subplots(11, figsize = (16, 88))\n",
    "\n",
    "plt.subplots_adjust(hspace = 0.25)\n",
    "\n",
    "#NEED TO SET TITLE #NEED TO SET TITLE #NEED TO SET TITLE \n",
    "#NEED TO SET TITLE #NEED TO SET TITLE #NEED TO SET TITLE \n",
    "#NEED TO SET TITLE #NEED TO SET TITLE #NEED TO SET TITLE \n",
    "\n",
    "plt.suptitle('Number of Sets Produce by Theme - Every Six Years', y = .888)\n",
    "\n",
    "for year in set_years[0:66:6]:\n",
    "    \n",
    "    #plotting:\n",
    "    sns.countplot(x = 'theme_id', \n",
    "                  data = sets_df[sets_df['year'] == year],\n",
    "                  palette = 'viridis',\n",
    "                  ax = axs[set_years[0:66:6].index(year)]).set(title = year,\n",
    "                                                              xlabel = 'Theme ID',\n",
    "                                                              ylabel = 'Count')\n",
    "    \n",
    "    #setting the xticks in subplots\n",
    "    for label in axs[0].get_xmajorticklabels() + \\\n",
    "                axs[1].get_xmajorticklabels() +\\\n",
    "                axs[2].get_xmajorticklabels() +\\\n",
    "                axs[3].get_xmajorticklabels() +\\\n",
    "                axs[4].get_xmajorticklabels() +\\\n",
    "                axs[5].get_xmajorticklabels() +\\\n",
    "                axs[6].get_xmajorticklabels() +\\\n",
    "                axs[7].get_xmajorticklabels() +\\\n",
    "                axs[8].get_xmajorticklabels() +\\\n",
    "                axs[9].get_xmajorticklabels() +\\\n",
    "                axs[10].get_xmajorticklabels():\n",
    "        label.set_fontsize(10)\n",
    "        label.set_rotation(90)\n",
    "        label.set_horizontalalignment(\"center\")\n",
    "    \n",
    "    plt.show;"
   ]
  },
  {
   "cell_type": "markdown",
   "id": "2fb8bd23-6494-43a5-aee1-76bdca252fd1",
   "metadata": {},
   "source": [
    "**Examining themes.csv**"
   ]
  },
  {
   "cell_type": "code",
   "execution_count": 66,
   "id": "4c437777-3313-4793-bfb0-dc42b377c345",
   "metadata": {},
   "outputs": [
    {
     "data": {
      "text/html": [
       "<div>\n",
       "<style scoped>\n",
       "    .dataframe tbody tr th:only-of-type {\n",
       "        vertical-align: middle;\n",
       "    }\n",
       "\n",
       "    .dataframe tbody tr th {\n",
       "        vertical-align: top;\n",
       "    }\n",
       "\n",
       "    .dataframe thead th {\n",
       "        text-align: right;\n",
       "    }\n",
       "</style>\n",
       "<table border=\"1\" class=\"dataframe\">\n",
       "  <thead>\n",
       "    <tr style=\"text-align: right;\">\n",
       "      <th></th>\n",
       "      <th>id</th>\n",
       "      <th>name</th>\n",
       "      <th>parent_id</th>\n",
       "    </tr>\n",
       "  </thead>\n",
       "  <tbody>\n",
       "    <tr>\n",
       "      <th>0</th>\n",
       "      <td>1</td>\n",
       "      <td>Technic</td>\n",
       "      <td>NaN</td>\n",
       "    </tr>\n",
       "    <tr>\n",
       "      <th>1</th>\n",
       "      <td>2</td>\n",
       "      <td>Arctic Technic</td>\n",
       "      <td>1.0</td>\n",
       "    </tr>\n",
       "    <tr>\n",
       "      <th>2</th>\n",
       "      <td>3</td>\n",
       "      <td>Competition</td>\n",
       "      <td>1.0</td>\n",
       "    </tr>\n",
       "    <tr>\n",
       "      <th>3</th>\n",
       "      <td>4</td>\n",
       "      <td>Expert Builder</td>\n",
       "      <td>1.0</td>\n",
       "    </tr>\n",
       "    <tr>\n",
       "      <th>4</th>\n",
       "      <td>5</td>\n",
       "      <td>Model</td>\n",
       "      <td>1.0</td>\n",
       "    </tr>\n",
       "  </tbody>\n",
       "</table>\n",
       "</div>"
      ],
      "text/plain": [
       "   id            name  parent_id\n",
       "0   1         Technic        NaN\n",
       "1   2  Arctic Technic        1.0\n",
       "2   3     Competition        1.0\n",
       "3   4  Expert Builder        1.0\n",
       "4   5           Model        1.0"
      ]
     },
     "execution_count": 66,
     "metadata": {},
     "output_type": "execute_result"
    }
   ],
   "source": [
    "themes_df.head()"
   ]
  },
  {
   "cell_type": "code",
   "execution_count": 67,
   "id": "f362dbc9-4198-4cc3-82ae-2b6db74f81a0",
   "metadata": {},
   "outputs": [
    {
     "data": {
      "text/plain": [
       "'The \"themes_df\" is (614, 3), rows by columns.'"
      ]
     },
     "execution_count": 67,
     "metadata": {},
     "output_type": "execute_result"
    }
   ],
   "source": [
    "f'The \"themes_df\" is {themes_df.shape}, rows by columns.'"
   ]
  },
  {
   "cell_type": "code",
   "execution_count": 68,
   "id": "b9adad6c-5015-4a26-b46b-6388a604c50e",
   "metadata": {},
   "outputs": [
    {
     "name": "stdout",
     "output_type": "stream",
     "text": [
      "<class 'pandas.core.frame.DataFrame'>\n",
      "RangeIndex: 614 entries, 0 to 613\n",
      "Data columns (total 3 columns):\n",
      " #   Column     Non-Null Count  Dtype  \n",
      "---  ------     --------------  -----  \n",
      " 0   id         614 non-null    int64  \n",
      " 1   name       614 non-null    object \n",
      " 2   parent_id  503 non-null    float64\n",
      "dtypes: float64(1), int64(1), object(1)\n",
      "memory usage: 14.5+ KB\n"
     ]
    }
   ],
   "source": [
    "themes_df.info()\n",
    "#note, need to change parent_id dtype to int"
   ]
  },
  {
   "cell_type": "code",
   "execution_count": 54,
   "id": "ccd8593f-c0ab-40dd-a36b-d7ae3d25d484",
   "metadata": {},
   "outputs": [
    {
     "data": {
      "text/plain": [
       "614"
      ]
     },
     "execution_count": 54,
     "metadata": {},
     "output_type": "execute_result"
    }
   ],
   "source": [
    "themes_df['id'].nunique()"
   ]
  },
  {
   "cell_type": "code",
   "execution_count": 70,
   "id": "aaee678f-82e2-45c9-8fde-e98df9b225f7",
   "metadata": {},
   "outputs": [
    {
     "data": {
      "text/plain": [
       "402"
      ]
     },
     "execution_count": 70,
     "metadata": {},
     "output_type": "execute_result"
    }
   ],
   "source": [
    "themes_df['name'].nunique()"
   ]
  },
  {
   "cell_type": "code",
   "execution_count": 55,
   "id": "395aeeed-95a3-4e00-92f1-7ac2af79091b",
   "metadata": {},
   "outputs": [
    {
     "data": {
      "text/plain": [
       "78"
      ]
     },
     "execution_count": 55,
     "metadata": {},
     "output_type": "execute_result"
    }
   ],
   "source": [
    "themes_df['parent_id'].nunique()"
   ]
  },
  {
   "cell_type": "code",
   "execution_count": 69,
   "id": "25aa936e-175e-443e-8117-edcf7d6a4f23",
   "metadata": {},
   "outputs": [
    {
     "data": {
      "text/html": [
       "<div>\n",
       "<style scoped>\n",
       "    .dataframe tbody tr th:only-of-type {\n",
       "        vertical-align: middle;\n",
       "    }\n",
       "\n",
       "    .dataframe tbody tr th {\n",
       "        vertical-align: top;\n",
       "    }\n",
       "\n",
       "    .dataframe thead th {\n",
       "        text-align: right;\n",
       "    }\n",
       "</style>\n",
       "<table border=\"1\" class=\"dataframe\">\n",
       "  <thead>\n",
       "    <tr style=\"text-align: right;\">\n",
       "      <th></th>\n",
       "      <th>id</th>\n",
       "      <th>name</th>\n",
       "      <th>parent_id</th>\n",
       "    </tr>\n",
       "  </thead>\n",
       "  <tbody>\n",
       "    <tr>\n",
       "      <th>0</th>\n",
       "      <td>1</td>\n",
       "      <td>Technic</td>\n",
       "      <td>NaN</td>\n",
       "    </tr>\n",
       "    <tr>\n",
       "      <th>21</th>\n",
       "      <td>22</td>\n",
       "      <td>Creator</td>\n",
       "      <td>NaN</td>\n",
       "    </tr>\n",
       "    <tr>\n",
       "      <th>49</th>\n",
       "      <td>50</td>\n",
       "      <td>Town</td>\n",
       "      <td>NaN</td>\n",
       "    </tr>\n",
       "    <tr>\n",
       "      <th>111</th>\n",
       "      <td>112</td>\n",
       "      <td>Racers</td>\n",
       "      <td>NaN</td>\n",
       "    </tr>\n",
       "    <tr>\n",
       "      <th>125</th>\n",
       "      <td>126</td>\n",
       "      <td>Space</td>\n",
       "      <td>NaN</td>\n",
       "    </tr>\n",
       "    <tr>\n",
       "      <th>...</th>\n",
       "      <td>...</td>\n",
       "      <td>...</td>\n",
       "      <td>...</td>\n",
       "    </tr>\n",
       "    <tr>\n",
       "      <th>604</th>\n",
       "      <td>605</td>\n",
       "      <td>Nexo Knights</td>\n",
       "      <td>NaN</td>\n",
       "    </tr>\n",
       "    <tr>\n",
       "      <th>605</th>\n",
       "      <td>606</td>\n",
       "      <td>Angry Birds</td>\n",
       "      <td>NaN</td>\n",
       "    </tr>\n",
       "    <tr>\n",
       "      <th>606</th>\n",
       "      <td>607</td>\n",
       "      <td>Ghostbusters</td>\n",
       "      <td>NaN</td>\n",
       "    </tr>\n",
       "    <tr>\n",
       "      <th>607</th>\n",
       "      <td>608</td>\n",
       "      <td>Disney</td>\n",
       "      <td>NaN</td>\n",
       "    </tr>\n",
       "    <tr>\n",
       "      <th>609</th>\n",
       "      <td>610</td>\n",
       "      <td>Brickheadz</td>\n",
       "      <td>NaN</td>\n",
       "    </tr>\n",
       "  </tbody>\n",
       "</table>\n",
       "<p>111 rows × 3 columns</p>\n",
       "</div>"
      ],
      "text/plain": [
       "      id          name  parent_id\n",
       "0      1       Technic        NaN\n",
       "21    22       Creator        NaN\n",
       "49    50          Town        NaN\n",
       "111  112        Racers        NaN\n",
       "125  126         Space        NaN\n",
       "..   ...           ...        ...\n",
       "604  605  Nexo Knights        NaN\n",
       "605  606   Angry Birds        NaN\n",
       "606  607  Ghostbusters        NaN\n",
       "607  608        Disney        NaN\n",
       "609  610    Brickheadz        NaN\n",
       "\n",
       "[111 rows x 3 columns]"
      ]
     },
     "execution_count": 69,
     "metadata": {},
     "output_type": "execute_result"
    }
   ],
   "source": [
    "themes_df[themes_df['parent_id'].isna()]\n",
    "\n",
    "#how to address NaN? Change to zero?"
   ]
  },
  {
   "cell_type": "code",
   "execution_count": 56,
   "id": "68d94ef1-247f-494b-a9b0-77d108ef2377",
   "metadata": {},
   "outputs": [
    {
     "data": {
      "text/plain": [
       "Supplemental    18\n",
       "Fire            12\n",
       "Airport         11\n",
       "Traffic          9\n",
       "Harbor           9\n",
       "Castle           8\n",
       "Construction     8\n",
       "Police           8\n",
       "Star Wars        6\n",
       "Train            6\n",
       "Cargo            6\n",
       "Technic          6\n",
       "Creator          6\n",
       "Building         6\n",
       "Pirates          6\n",
       "Hospital         5\n",
       "Coast Guard      5\n",
       "Race             5\n",
       "Gas Station      4\n",
       "Farm             4\n",
       "Name: name, dtype: int64"
      ]
     },
     "execution_count": 56,
     "metadata": {},
     "output_type": "execute_result"
    }
   ],
   "source": [
    "themes_df['name'].value_counts()[0:20]"
   ]
  },
  {
   "cell_type": "code",
   "execution_count": 73,
   "id": "27f5b300-ad29-4b45-b4e0-eec38163e79a",
   "metadata": {},
   "outputs": [
    {
     "data": {
      "text/plain": [
       "Text(0, 0.5, 'Count')"
      ]
     },
     "execution_count": 73,
     "metadata": {},
     "output_type": "execute_result"
    },
    {
     "data": {
      "image/png": "[encoded data removed]",
      "text/plain": [
       "<Figure size 864x576 with 1 Axes>"
      ]
     },
     "metadata": {},
     "output_type": "display_data"
    }
   ],
   "source": [
    "plt.figure(figsize = ((12, 8)))\n",
    "\n",
    "themes_df['name'].value_counts()[0:20].plot(kind = 'bar', cmap = 'viridis'),\n",
    "\n",
    "plt.title('Counts of Possible Lego Set Themes', \n",
    "          fontsize = 16,\n",
    "          fontweight = 'bold',\n",
    "          y = 1.05)\n",
    "\n",
    "plt.xlabel('Theme',\n",
    "           fontweight = 'bold')\n",
    "plt.xticks(rotation = 60,\n",
    "           fontsize = 10)\n",
    "\n",
    "plt.ylabel('Count',\n",
    "           fontweight = 'bold')"
   ]
  },
  {
   "cell_type": "code",
   "execution_count": 109,
   "id": "baf9520f-3ac1-4e33-8e33-d1063345f830",
   "metadata": {},
   "outputs": [
    {
     "data": {
      "text/html": [
       "<div>\n",
       "<style scoped>\n",
       "    .dataframe tbody tr th:only-of-type {\n",
       "        vertical-align: middle;\n",
       "    }\n",
       "\n",
       "    .dataframe tbody tr th {\n",
       "        vertical-align: top;\n",
       "    }\n",
       "\n",
       "    .dataframe thead th {\n",
       "        text-align: right;\n",
       "    }\n",
       "</style>\n",
       "<table border=\"1\" class=\"dataframe\">\n",
       "  <thead>\n",
       "    <tr style=\"text-align: right;\">\n",
       "      <th></th>\n",
       "      <th>id</th>\n",
       "      <th>name</th>\n",
       "      <th>parent_id</th>\n",
       "    </tr>\n",
       "  </thead>\n",
       "  <tbody>\n",
       "    <tr>\n",
       "      <th>18</th>\n",
       "      <td>19</td>\n",
       "      <td>Supplemental</td>\n",
       "      <td>1.0</td>\n",
       "    </tr>\n",
       "    <tr>\n",
       "      <th>47</th>\n",
       "      <td>48</td>\n",
       "      <td>Supplemental</td>\n",
       "      <td>22.0</td>\n",
       "    </tr>\n",
       "    <tr>\n",
       "      <th>61</th>\n",
       "      <td>62</td>\n",
       "      <td>Supplemental</td>\n",
       "      <td>52.0</td>\n",
       "    </tr>\n",
       "    <tr>\n",
       "      <th>83</th>\n",
       "      <td>84</td>\n",
       "      <td>Supplemental</td>\n",
       "      <td>67.0</td>\n",
       "    </tr>\n",
       "    <tr>\n",
       "      <th>101</th>\n",
       "      <td>102</td>\n",
       "      <td>Supplemental</td>\n",
       "      <td>94.0</td>\n",
       "    </tr>\n",
       "    <tr>\n",
       "      <th>118</th>\n",
       "      <td>119</td>\n",
       "      <td>Supplemental</td>\n",
       "      <td>112.0</td>\n",
       "    </tr>\n",
       "    <tr>\n",
       "      <th>123</th>\n",
       "      <td>124</td>\n",
       "      <td>Supplemental</td>\n",
       "      <td>123.0</td>\n",
       "    </tr>\n",
       "    <tr>\n",
       "      <th>142</th>\n",
       "      <td>143</td>\n",
       "      <td>Supplemental</td>\n",
       "      <td>126.0</td>\n",
       "    </tr>\n",
       "    <tr>\n",
       "      <th>201</th>\n",
       "      <td>202</td>\n",
       "      <td>Supplemental</td>\n",
       "      <td>186.0</td>\n",
       "    </tr>\n",
       "    <tr>\n",
       "      <th>240</th>\n",
       "      <td>241</td>\n",
       "      <td>Supplemental</td>\n",
       "      <td>233.0</td>\n",
       "    </tr>\n",
       "    <tr>\n",
       "      <th>288</th>\n",
       "      <td>289</td>\n",
       "      <td>Supplemental</td>\n",
       "      <td>279.0</td>\n",
       "    </tr>\n",
       "    <tr>\n",
       "      <th>313</th>\n",
       "      <td>314</td>\n",
       "      <td>Supplemental</td>\n",
       "      <td>307.0</td>\n",
       "    </tr>\n",
       "    <tr>\n",
       "      <th>345</th>\n",
       "      <td>346</td>\n",
       "      <td>Supplemental</td>\n",
       "      <td>324.0</td>\n",
       "    </tr>\n",
       "    <tr>\n",
       "      <th>370</th>\n",
       "      <td>371</td>\n",
       "      <td>Supplemental</td>\n",
       "      <td>365.0</td>\n",
       "    </tr>\n",
       "    <tr>\n",
       "      <th>378</th>\n",
       "      <td>379</td>\n",
       "      <td>Supplemental</td>\n",
       "      <td>373.0</td>\n",
       "    </tr>\n",
       "    <tr>\n",
       "      <th>472</th>\n",
       "      <td>473</td>\n",
       "      <td>Supplemental</td>\n",
       "      <td>465.0</td>\n",
       "    </tr>\n",
       "    <tr>\n",
       "      <th>527</th>\n",
       "      <td>528</td>\n",
       "      <td>Supplemental</td>\n",
       "      <td>507.0</td>\n",
       "    </tr>\n",
       "    <tr>\n",
       "      <th>531</th>\n",
       "      <td>532</td>\n",
       "      <td>Supplemental</td>\n",
       "      <td>529.0</td>\n",
       "    </tr>\n",
       "  </tbody>\n",
       "</table>\n",
       "</div>"
      ],
      "text/plain": [
       "      id          name  parent_id\n",
       "18    19  Supplemental        1.0\n",
       "47    48  Supplemental       22.0\n",
       "61    62  Supplemental       52.0\n",
       "83    84  Supplemental       67.0\n",
       "101  102  Supplemental       94.0\n",
       "118  119  Supplemental      112.0\n",
       "123  124  Supplemental      123.0\n",
       "142  143  Supplemental      126.0\n",
       "201  202  Supplemental      186.0\n",
       "240  241  Supplemental      233.0\n",
       "288  289  Supplemental      279.0\n",
       "313  314  Supplemental      307.0\n",
       "345  346  Supplemental      324.0\n",
       "370  371  Supplemental      365.0\n",
       "378  379  Supplemental      373.0\n",
       "472  473  Supplemental      465.0\n",
       "527  528  Supplemental      507.0\n",
       "531  532  Supplemental      529.0"
      ]
     },
     "execution_count": 109,
     "metadata": {},
     "output_type": "execute_result"
    }
   ],
   "source": [
    "themes_df[themes_df['name'] == 'Supplemental']"
   ]
  },
  {
   "cell_type": "code",
   "execution_count": 57,
   "id": "74d8d3bb-8f16-4942-bc04-272b7bb9ad4e",
   "metadata": {},
   "outputs": [
    {
     "data": {
      "text/plain": [
       "array(['Technic', 'Construction', 'Riding Cycle', 'Supplemental', 'Train',\n",
       "       'Recreation', 'Hospital', 'Divers', 'Space Port', 'Drome Racers',\n",
       "       'Tiny Turbos', 'Alien Conquest', 'Ice Planet 2002',\n",
       "       'Space Police I', 'Galaxy Squad', 'Islanders',\n",
       "       'Star Wars Clone Wars', 'Ultimate Collector Series',\n",
       "       'Star Wars Rebels', 'Classic Castle', 'Fright Knights',\n",
       "       'Royal Knights', 'Classic Basic', 'Halloween', 'My Own Train',\n",
       "       'Prisoner of Azkaban', 'NXT', 'Last Crusade',\n",
       "       'SpongeBob SquarePants', 'Model Team', 'Desert', 'Ultra Agents',\n",
       "       'Aquaraiders I', 'Avatar', 'Barraki', 'Glatorian Legends',\n",
       "       'Mistika', 'Rahkshi', 'Toa Inika', 'Vahki', 'Boat',\n",
       "       'Wooden Box Set', 'Exo-Force', 'Heroes', 'Island Xtreme Stunts',\n",
       "       'Legoland Parks', 'Airjitzu', 'Rock Raiders', 'Gravity Games',\n",
       "       'Ferries', 'Znap', 'Avengers', 'Jungle Rescue', 'Duplo',\n",
       "       'Soft Bricks', 'Series 3 Minifigures', 'Series 9 Minifigures',\n",
       "       'The Simpsons', 'Series 16 Minifigures', 'The Hobbit',\n",
       "       'The Two Towers', 'The Lone Ranger', 'Series 1', 'Series 7',\n",
       "       'Fantasy', 'Speed Champions', 'Ghostbusters'], dtype=object)"
      ]
     },
     "execution_count": 57,
     "metadata": {},
     "output_type": "execute_result"
    }
   ],
   "source": [
    "unique_themes = themes_df['name'].unique()\n",
    "\n",
    "#observing every 6th unique theme\n",
    "unique_themes[0::6]"
   ]
  },
  {
   "cell_type": "code",
   "execution_count": 72,
   "id": "0af59048-d6e3-43cf-87ec-5297ba0d582f",
   "metadata": {},
   "outputs": [
    {
     "data": {
      "text/html": [
       "<div>\n",
       "<style scoped>\n",
       "    .dataframe tbody tr th:only-of-type {\n",
       "        vertical-align: middle;\n",
       "    }\n",
       "\n",
       "    .dataframe tbody tr th {\n",
       "        vertical-align: top;\n",
       "    }\n",
       "\n",
       "    .dataframe thead th {\n",
       "        text-align: right;\n",
       "    }\n",
       "</style>\n",
       "<table border=\"1\" class=\"dataframe\">\n",
       "  <thead>\n",
       "    <tr style=\"text-align: right;\">\n",
       "      <th></th>\n",
       "      <th>id</th>\n",
       "      <th>name</th>\n",
       "      <th>parent_id</th>\n",
       "    </tr>\n",
       "  </thead>\n",
       "  <tbody>\n",
       "    <tr>\n",
       "      <th>370</th>\n",
       "      <td>371</td>\n",
       "      <td>Supplemental</td>\n",
       "      <td>365.0</td>\n",
       "    </tr>\n",
       "  </tbody>\n",
       "</table>\n",
       "</div>"
      ],
      "text/plain": [
       "      id          name  parent_id\n",
       "370  371  Supplemental      365.0"
      ]
     },
     "execution_count": 72,
     "metadata": {},
     "output_type": "execute_result"
    }
   ],
   "source": [
    "#looking at the themes of the sets produced during the first recorded year:\n",
    "themes_df[themes_df['id'] == 371]"
   ]
  },
  {
   "cell_type": "code",
   "execution_count": 73,
   "id": "9d0d930b-55a8-4c2f-82fc-bc0a6f24ced5",
   "metadata": {},
   "outputs": [
    {
     "data": {
      "text/html": [
       "<div>\n",
       "<style scoped>\n",
       "    .dataframe tbody tr th:only-of-type {\n",
       "        vertical-align: middle;\n",
       "    }\n",
       "\n",
       "    .dataframe tbody tr th {\n",
       "        vertical-align: top;\n",
       "    }\n",
       "\n",
       "    .dataframe thead th {\n",
       "        text-align: right;\n",
       "    }\n",
       "</style>\n",
       "<table border=\"1\" class=\"dataframe\">\n",
       "  <thead>\n",
       "    <tr style=\"text-align: right;\">\n",
       "      <th></th>\n",
       "      <th>id</th>\n",
       "      <th>name</th>\n",
       "      <th>parent_id</th>\n",
       "    </tr>\n",
       "  </thead>\n",
       "  <tbody>\n",
       "    <tr>\n",
       "      <th>365</th>\n",
       "      <td>366</td>\n",
       "      <td>Basic Set</td>\n",
       "      <td>365.0</td>\n",
       "    </tr>\n",
       "  </tbody>\n",
       "</table>\n",
       "</div>"
      ],
      "text/plain": [
       "      id       name  parent_id\n",
       "365  366  Basic Set      365.0"
      ]
     },
     "execution_count": 73,
     "metadata": {},
     "output_type": "execute_result"
    }
   ],
   "source": [
    "#looking at the themes of the sets produced during the first recorded year:\n",
    "themes_df[themes_df['id'] == 366]"
   ]
  },
  {
   "cell_type": "code",
   "execution_count": 74,
   "id": "98ba2d03-b045-4df1-a14a-dad5a0c16eeb",
   "metadata": {},
   "outputs": [
    {
     "data": {
      "text/html": [
       "<div>\n",
       "<style scoped>\n",
       "    .dataframe tbody tr th:only-of-type {\n",
       "        vertical-align: middle;\n",
       "    }\n",
       "\n",
       "    .dataframe tbody tr th {\n",
       "        vertical-align: top;\n",
       "    }\n",
       "\n",
       "    .dataframe thead th {\n",
       "        text-align: right;\n",
       "    }\n",
       "</style>\n",
       "<table border=\"1\" class=\"dataframe\">\n",
       "  <thead>\n",
       "    <tr style=\"text-align: right;\">\n",
       "      <th></th>\n",
       "      <th>id</th>\n",
       "      <th>name</th>\n",
       "      <th>parent_id</th>\n",
       "    </tr>\n",
       "  </thead>\n",
       "  <tbody>\n",
       "    <tr>\n",
       "      <th>364</th>\n",
       "      <td>365</td>\n",
       "      <td>Classic</td>\n",
       "      <td>NaN</td>\n",
       "    </tr>\n",
       "  </tbody>\n",
       "</table>\n",
       "</div>"
      ],
      "text/plain": [
       "      id     name  parent_id\n",
       "364  365  Classic        NaN"
      ]
     },
     "execution_count": 74,
     "metadata": {},
     "output_type": "execute_result"
    }
   ],
   "source": [
    "#looking at the parent theme of the sets produced during the first recorded year:\n",
    "themes_df[themes_df['id'] == 365]"
   ]
  }
 ],
 "metadata": {
  "kernelspec": {
   "display_name": "Python 3",
   "language": "python",
   "name": "python3"
  },
  "language_info": {
   "codemirror_mode": {
    "name": "ipython",
    "version": 3
   },
   "file_extension": ".py",
   "mimetype": "text/x-python",
   "name": "python",
   "nbconvert_exporter": "python",
   "pygments_lexer": "ipython3",
   "version": "3.8.8"
  }
 },
 "nbformat": 4,
 "nbformat_minor": 5
}
